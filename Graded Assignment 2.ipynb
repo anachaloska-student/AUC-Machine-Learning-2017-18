{
 "cells": [
  {
   "cell_type": "markdown",
   "metadata": {},
   "source": [
    "# Graded Assignment 2 (10 points)\n",
    "\n",
    "##### Ana Chaloska "
   ]
  },
  {
   "cell_type": "markdown",
   "metadata": {},
   "source": [
    "# PART 1"
   ]
  },
  {
   "cell_type": "markdown",
   "metadata": {},
   "source": [
    "BONUS: \n",
    "* **tune more parameters of logistic regression** - done\n",
    "* **add additional classifiers (NN, Naive Bayes, decision tree)** - done\n",
    "* analyse additional dataset (ex. Iris dataset)"
   ]
  },
  {
   "cell_type": "markdown",
   "metadata": {},
   "source": [
    "## Design of the experiment"
   ]
  },
  {
   "cell_type": "markdown",
   "metadata": {},
   "source": [
    "## Implementation of the experiment"
   ]
  },
  {
   "cell_type": "code",
   "execution_count": 199,
   "metadata": {},
   "outputs": [
    {
     "name": "stdout",
     "output_type": "stream",
     "text": [
      "Populating the interactive namespace from numpy and matplotlib\n"
     ]
    }
   ],
   "source": [
    "%pylab inline\n",
    "# imports necessary modules\n",
    "from sklearn.datasets import load_digits\n",
    "from sklearn.preprocessing import normalize\n",
    "from sklearn.linear_model import LogisticRegression\n",
    "from sklearn.neighbors import KNeighborsClassifier\n",
    "from sklearn.model_selection import GridSearchCV, cross_val_score\n",
    "from sklearn.metrics import classification_report\n",
    "from sklearn.metrics import confusion_matrix\n",
    "from sklearn.tree import DecisionTreeClassifier\n",
    "from sklearn.preprocessing import PolynomialFeatures\n",
    "from sklearn.pipeline import make_pipeline\n",
    "from itertools import product\n",
    "\n",
    "# load mnist dataset and split in train and test set.\n",
    "digits = load_digits()\n",
    "X_train_mnist = reshape(digits.images[:1500],(1500,64))\n",
    "X_test_mnist = reshape(digits.images[1500:],(297,64))\n",
    "Y_train_mnist = digits.target[:1500]\n",
    "Y_test_mnist = digits.target[1500:]\n",
    "# your implementation here"
   ]
  },
  {
   "cell_type": "code",
   "execution_count": 137,
   "metadata": {
    "collapsed": true
   },
   "outputs": [],
   "source": [
    "# Standardizes the elemetns of the dataset\n",
    "from sklearn.preprocessing import StandardScaler\n",
    "scaler = StandardScaler()\n",
    "X_train_mnist = scaler.fit_transform(X_train_mnist, Y_train_mnist)\n",
    "X_test_mnist = scaler.fit_transform(X_test_mnist, Y_test_mnist)"
   ]
  },
  {
   "cell_type": "markdown",
   "metadata": {},
   "source": [
    "### KNN "
   ]
  },
  {
   "cell_type": "markdown",
   "metadata": {},
   "source": [
    "#### Default KNN"
   ]
  },
  {
   "cell_type": "code",
   "execution_count": 286,
   "metadata": {},
   "outputs": [
    {
     "data": {
      "text/plain": [
       "KNeighborsClassifier(algorithm='auto', leaf_size=30, metric='minkowski',\n",
       "           metric_params=None, n_jobs=1, n_neighbors=5, p=2,\n",
       "           weights='uniform')"
      ]
     },
     "execution_count": 286,
     "metadata": {},
     "output_type": "execute_result"
    }
   ],
   "source": [
    "# trains knn with default settings\n",
    "knn=KNeighborsClassifier()\n",
    "knn.fit(X_train_mnist, Y_train_mnist)"
   ]
  },
  {
   "cell_type": "markdown",
   "metadata": {},
   "source": [
    "#### Optimized KNN"
   ]
  },
  {
   "cell_type": "code",
   "execution_count": 282,
   "metadata": {},
   "outputs": [
    {
     "data": {
      "text/plain": [
       "GridSearchCV(cv=10, error_score='raise',\n",
       "       estimator=KNeighborsClassifier(algorithm='auto', leaf_size=30, metric='minkowski',\n",
       "           metric_params=None, n_jobs=1, n_neighbors=5, p=2,\n",
       "           weights='uniform'),\n",
       "       fit_params={}, iid=True, n_jobs=1,\n",
       "       param_grid={'n_neighbors': [1, 2, 3, 4, 5, 6, 7, 8, 9, 10]},\n",
       "       pre_dispatch='2*n_jobs', refit=True, return_train_score=True,\n",
       "       scoring='accuracy', verbose=0)"
      ]
     },
     "execution_count": 282,
     "metadata": {},
     "output_type": "execute_result"
    }
   ],
   "source": [
    "# Optimizes knn\n",
    "k_range = list(range(1,11))\n",
    "cv_knn = GridSearchCV(estimator=KNeighborsClassifier(), param_grid = dict(n_neighbors=k_range), cv=10, scoring='accuracy')\n",
    "cv_knn.fit(X_train_mnist, Y_train_mnist)     "
   ]
  },
  {
   "cell_type": "code",
   "execution_count": 283,
   "metadata": {},
   "outputs": [
    {
     "data": {
      "text/plain": [
       "KNeighborsClassifier(algorithm='auto', leaf_size=30, metric='minkowski',\n",
       "           metric_params=None, n_jobs=1, n_neighbors=3, p=2,\n",
       "           weights='uniform')"
      ]
     },
     "execution_count": 283,
     "metadata": {},
     "output_type": "execute_result"
    }
   ],
   "source": [
    "opt_knn=KNeighborsClassifier(n_neighbors=3)\n",
    "opt_knn.fit(X_train_mnist, Y_train_mnist)"
   ]
  },
  {
   "cell_type": "markdown",
   "metadata": {},
   "source": [
    "### Logistic Regression"
   ]
  },
  {
   "cell_type": "markdown",
   "metadata": {},
   "source": [
    "#### Default Logistic Regression"
   ]
  },
  {
   "cell_type": "code",
   "execution_count": 55,
   "metadata": {},
   "outputs": [
    {
     "data": {
      "text/plain": [
       "LogisticRegression(C=1.0, class_weight=None, dual=False, fit_intercept=True,\n",
       "          intercept_scaling=1, max_iter=100, multi_class='ovr', n_jobs=1,\n",
       "          penalty='l2', random_state=None, solver='liblinear', tol=0.0001,\n",
       "          verbose=0, warm_start=False)"
      ]
     },
     "execution_count": 55,
     "metadata": {},
     "output_type": "execute_result"
    }
   ],
   "source": [
    "# trains logistic regression with default settings\n",
    "log_reg=LogisticRegression()\n",
    "log_reg.fit(X_train_mnist, Y_train_mnist)"
   ]
  },
  {
   "cell_type": "markdown",
   "metadata": {},
   "source": [
    "#### Optimized Logistic Regression"
   ]
  },
  {
   "cell_type": "code",
   "execution_count": 271,
   "metadata": {
    "scrolled": true
   },
   "outputs": [
    {
     "data": {
      "text/plain": [
       "GridSearchCV(cv=10, error_score='raise',\n",
       "       estimator=LogisticRegression(C=1.0, class_weight=None, dual=False, fit_intercept=True,\n",
       "          intercept_scaling=1, max_iter=100, multi_class='ovr', n_jobs=1,\n",
       "          penalty='l2', random_state=None, solver='liblinear', tol=0.0001,\n",
       "          verbose=0, warm_start=False),\n",
       "       fit_params={}, iid=True, n_jobs=1,\n",
       "       param_grid={'C': [0.0001, 0.0005, 0.001, 0.003, 0.01, 0.03, 0.1, 0.3, 1], 'fit_intercept': [True, False]},\n",
       "       pre_dispatch='2*n_jobs', refit=True, return_train_score=True,\n",
       "       scoring=None, verbose=0)"
      ]
     },
     "execution_count": 271,
     "metadata": {},
     "output_type": "execute_result"
    }
   ],
   "source": [
    "# Optimizes Logistic Regression\n",
    "log_reg_params=[0.0001, 0.0005, 0.001, 0.003, 0.01, 0.03, 0.1, 0.3, 1]\n",
    "cv_log_reg = GridSearchCV(estimator=LogisticRegression(), param_grid = dict(C=log_reg_params, fit_intercept=[True, False]), cv=10)\n",
    "cv_log_reg.fit(X_train_mnist, Y_train_mnist)   "
   ]
  },
  {
   "cell_type": "code",
   "execution_count": 270,
   "metadata": {},
   "outputs": [
    {
     "data": {
      "text/plain": [
       "LogisticRegression(C=0.3, class_weight=None, dual=False, fit_intercept=True,\n",
       "          intercept_scaling=1, max_iter=100, multi_class='ovr', n_jobs=1,\n",
       "          penalty='l2', random_state=None, solver='liblinear', tol=0.0001,\n",
       "          verbose=0, warm_start=False)"
      ]
     },
     "execution_count": 270,
     "metadata": {},
     "output_type": "execute_result"
    }
   ],
   "source": [
    "opt_log_reg=LogisticRegression(C=0.3)\n",
    "opt_log_reg.fit(X_train_mnist, Y_train_mnist)"
   ]
  },
  {
   "cell_type": "markdown",
   "metadata": {},
   "source": [
    "## Results and analysis of the experiment"
   ]
  },
  {
   "cell_type": "markdown",
   "metadata": {},
   "source": [
    "The perfomance of a parametric (logistic regression) and non-parametric (k-nearest neighbours) classifier on part of the MNIST dataset was optimized and compared.\n",
    "\n",
    "The dataset consists of 1797 examples with 64 features. The logistic regression and the k-nearest neighbours classifier both define 10 classes, 1 for each digit $({0,1,...,9})$. the classes correspond to the *target* attributes of the examples in the datset. \n",
    "\n",
    "**Data:** The provided train and test set of MNIST dataset were used to train and test the classifiers. Firstly, the data was pre-processed by standardization, in order to set a mean value of 0 and a standard deviation of 1. (I tried normalization as well, but it led to less accurate predictions than did stndardization). \n",
    "\n",
    "**Training phase:** Logistic regression and k-nn were first trained using default parameters (n_neighbors=5 for k-nn and C=1.0 for logistic regression). To optimize the performance of the classifiers, I applied 10-fold cross validation for each of them. The range of values for which the parameter *k-neighbors* was evaluated while optimizing k-nn are the {1,2,3,4,5,6,7,8,9,10}. The range of values for which the regularization parameter *C* was evaluated while optimizing logistic regression are {0.0001, 0.0005, 0.001, 0.003, 0.01, 0.03, 0.1, 0.3, 1}. The range of values for which the regularization parameter *fit_intercept* was evaluated while optimizing logistic regression are {```True```, ```False```}. After that, the value/s of the *best parameter/s* for each of the classifiers was/were found. The classifiers were then trained with the values of their best (optimized) parameters in order to derive optimal classifiers. Below are the results gathered from the experiment."
   ]
  },
  {
   "cell_type": "markdown",
   "metadata": {},
   "source": [
    "### KNN"
   ]
  },
  {
   "cell_type": "markdown",
   "metadata": {},
   "source": [
    "**The optimal value of the parameter *n-neighbors* of k-nn was 1. **"
   ]
  },
  {
   "cell_type": "code",
   "execution_count": 284,
   "metadata": {},
   "outputs": [
    {
     "name": "stdout",
     "output_type": "stream",
     "text": [
      "The optimal value of k is:  {'n_neighbors': 1}\n"
     ]
    }
   ],
   "source": [
    "print('The optimal value of k is: ', cv_knn.best_params_)"
   ]
  },
  {
   "cell_type": "markdown",
   "metadata": {},
   "source": [
    "**The average cross-validaiton accuracies and standard deviations of the accuracy for $k\\in{1,2,3,4,5,6,7,8,9,10}$ are the following:**"
   ]
  },
  {
   "cell_type": "code",
   "execution_count": 114,
   "metadata": {},
   "outputs": [
    {
     "name": "stdout",
     "output_type": "stream",
     "text": [
      "MEAN: 0.960 | STD:(+/-0.043) | for {'n_neighbors': 1}\n",
      "MEAN: 0.951 | STD:(+/-0.043) | for {'n_neighbors': 2}\n",
      "MEAN: 0.961 | STD:(+/-0.045) | for {'n_neighbors': 3}\n",
      "MEAN: 0.960 | STD:(+/-0.049) | for {'n_neighbors': 4}\n",
      "MEAN: 0.961 | STD:(+/-0.053) | for {'n_neighbors': 5}\n",
      "MEAN: 0.951 | STD:(+/-0.049) | for {'n_neighbors': 6}\n",
      "MEAN: 0.952 | STD:(+/-0.064) | for {'n_neighbors': 7}\n",
      "MEAN: 0.948 | STD:(+/-0.061) | for {'n_neighbors': 8}\n",
      "MEAN: 0.951 | STD:(+/-0.064) | for {'n_neighbors': 9}\n",
      "MEAN: 0.944 | STD:(+/-0.066) | for {'n_neighbors': 10}\n",
      "\n"
     ]
    }
   ],
   "source": [
    "means_cv_knn = cv_knn.cv_results_['mean_test_score']\n",
    "stds_cv_knn = cv_knn.cv_results_['std_test_score']\n",
    "for mean, std, params in zip(means_cv_knn, stds_cv_knn, cv_knn.cv_results_['params']):\n",
    "    print(\"MEAN: %0.3f | STD:(+/-%0.03f) | for %r\" % (mean, std * 2, params))\n",
    "print()"
   ]
  },
  {
   "cell_type": "markdown",
   "metadata": {},
   "source": [
    "**The average accuracies for $k\\in{1,2,3,4,5,6,7,8,9,10}$ are plotted below (Figure 1). The plot approves that the best accuracy was reached for $k=1$.** "
   ]
  },
  {
   "cell_type": "code",
   "execution_count": 321,
   "metadata": {},
   "outputs": [
    {
     "data": {
      "text/plain": [
       "<matplotlib.text.Text at 0xe42bee978>"
      ]
     },
     "execution_count": 321,
     "metadata": {},
     "output_type": "execute_result"
    },
    {
     "data": {
      "image/png": "[encoded data removed]",
      "text/plain": [
       "<matplotlib.figure.Figure at 0xe429d8198>"
      ]
     },
     "metadata": {},
     "output_type": "display_data"
    }
   ],
   "source": [
    "plt.scatter(k_range, means_cv_knn)\n",
    "plt.scatter(k_range, means_cv_knn)\n",
    "plt.title('Figure 1: \\n Average accuracies for different number of nearest neighbors')\n",
    "plt.xlabel('Number of nearest neighbors')\n",
    "plt.ylabel('Average aaccuracy')"
   ]
  },
  {
   "cell_type": "markdown",
   "metadata": {},
   "source": [
    "**The standard deviations of the accuracies for $k\\in{1,2,3,4,5,6,7,8,9,10}$ are plotted the below (Figure 2).**"
   ]
  },
  {
   "cell_type": "code",
   "execution_count": 322,
   "metadata": {},
   "outputs": [
    {
     "data": {
      "text/plain": [
       "<matplotlib.text.Text at 0xe42c6b7f0>"
      ]
     },
     "execution_count": 322,
     "metadata": {},
     "output_type": "execute_result"
    },
    {
     "data": {
      "image/png": "[encoded data removed]",
      "text/plain": [
       "<matplotlib.figure.Figure at 0xe42bee278>"
      ]
     },
     "metadata": {},
     "output_type": "display_data"
    }
   ],
   "source": [
    "plt.scatter(k_range, stds_cv_knn)\n",
    "plt.scatter(k_range, stds_cv_knn)\n",
    "plt.title('Figure 2 \\n Standard deviation of accuracies for different numbers of nearest neighbors')\n",
    "plt.xlabel('Number of nearest neighbors')\n",
    "plt.ylabel('Standard deviation of accuracy')"
   ]
  },
  {
   "cell_type": "markdown",
   "metadata": {},
   "source": [
    "**Below are the accuracy scores obtained for the default and the optimized version of the k-nn classifier. (Of course, the accuracy on the test set is always slightly lower than the one on the train set. I printed all of them to show this occurance.)**"
   ]
  },
  {
   "cell_type": "code",
   "execution_count": 294,
   "metadata": {},
   "outputs": [
    {
     "name": "stdout",
     "output_type": "stream",
     "text": [
      "knn (no cv): TEST  0.956228956229\n",
      "knn (no cv): TRAIN  0.991333333333\n",
      "knn: TRAIN 0.969568068457\n",
      "knn: TEST 0.948066688389\n",
      "opt_knn: TRAIN 0.974844633248\n",
      "opt_knn: TEST 0.957763658086\n"
     ]
    }
   ],
   "source": [
    "print('knn (no cv): TRAIN ',knn.score(X_train_mnist, Y_train_mnist))\n",
    "print('knn (no cv): TEST ',knn.score(X_test_mnist, Y_test_mnist))\n",
    "print('knn: TRAIN', average(cross_val_score(knn, X_train_mnist, Y_train_mnist, cv=10)))\n",
    "print('knn: TEST', average(cross_val_score(knn, X_test_mnist, Y_test_mnist, cv=10)))\n",
    "print('opt_knn: TRAIN', average(cross_val_score(opt_knn, X_train_mnist, Y_train_mnist, cv=10)))\n",
    "print('opt_knn: TEST', average(cross_val_score(opt_knn, X_test_mnist, Y_test_mnist, cv=10)))"
   ]
  },
  {
   "cell_type": "markdown",
   "metadata": {},
   "source": [
    "**It is observable that the accuracy score is (slightly) improved after optimizing the parameter of the classifier. Thus opt_knn is the better performing one.**"
   ]
  },
  {
   "cell_type": "markdown",
   "metadata": {},
   "source": [
    "#### Accuracy of  k-nn\n",
    "| Classifier    | Average Score |\n",
    "|:---          |:---:          |\n",
    "| Default KNN   | 0.956228956229|\n",
    "| Optimized KNN | 0.957763658086|"
   ]
  },
  {
   "cell_type": "markdown",
   "metadata": {},
   "source": [
    "**Below is the classification report of the better performing classifier for k-nn classification, namely opt_knn. :**\n",
    "* **The average precision is 0.96, meaning that of all predictions, 96% of them were correct; **\n",
    "* **The average recall is 0.96, meaning that the classifier correctly classifies 96% of the instances;**\n",
    "* **The average f1-score is 0.96, which is significantly high.**\n",
    "\n",
    "**The metrices in the classification report match the best score (0.957763658086) of opt_knn classifier, presented in the table above.**"
   ]
  },
  {
   "cell_type": "code",
   "execution_count": 266,
   "metadata": {},
   "outputs": [
    {
     "name": "stdout",
     "output_type": "stream",
     "text": [
      "             precision    recall  f1-score   support\n",
      "\n",
      "          0       1.00      1.00      1.00        27\n",
      "          1       0.94      1.00      0.97        31\n",
      "          2       0.96      1.00      0.98        27\n",
      "          3       0.96      0.87      0.91        30\n",
      "          4       1.00      0.91      0.95        33\n",
      "          5       0.91      1.00      0.95        30\n",
      "          6       1.00      1.00      1.00        30\n",
      "          7       0.94      1.00      0.97        30\n",
      "          8       0.93      0.93      0.93        28\n",
      "          9       0.97      0.90      0.93        31\n",
      "\n",
      "avg / total       0.96      0.96      0.96       297\n",
      "\n"
     ]
    }
   ],
   "source": [
    "print(classification_report(Y_test_mnist, opt_knn.predict(X_test_mnist)))"
   ]
  },
  {
   "cell_type": "markdown",
   "metadata": {},
   "source": [
    "### Logistic Regression"
   ]
  },
  {
   "cell_type": "markdown",
   "metadata": {},
   "source": [
    "**The optimal value of the regularizationparameter *C* of logistic regression was 0.1. **\n",
    "\n",
    "**BONUS: The optimal value of the regularizationparameter *fit_intercept* of logistic regression was ```True``` **"
   ]
  },
  {
   "cell_type": "code",
   "execution_count": 306,
   "metadata": {
    "scrolled": true
   },
   "outputs": [
    {
     "name": "stdout",
     "output_type": "stream",
     "text": [
      "The optimmal value of the parameters C and fit_intercept:  {'C': 0.1, 'fit_intercept': True}\n"
     ]
    }
   ],
   "source": [
    "print('The optimmal value of the parameters C and fit_intercept: ', cv_log_reg.best_params_)"
   ]
  },
  {
   "cell_type": "markdown",
   "metadata": {},
   "source": [
    "**The average cross-validaiton accuracies and standard deviations of the accuracy for $C\\in{0.0001, 0.0005, 0.001, 0.003, 0.01, 0.03, 0.1, 0.3, 1}$ and $fit intercept\\in{True, False}$ are the following:**"
   ]
  },
  {
   "cell_type": "code",
   "execution_count": 204,
   "metadata": {},
   "outputs": [
    {
     "name": "stdout",
     "output_type": "stream",
     "text": [
      "MEAN: 0.911 | STD:(+/-0.061) | for {'C': 0.0001, 'fit_intercept': True}\n",
      "MEAN: 0.911 | STD:(+/-0.061) | for {'C': 0.0001, 'fit_intercept': False}\n",
      "MEAN: 0.939 | STD:(+/-0.058) | for {'C': 0.0005, 'fit_intercept': True}\n",
      "MEAN: 0.938 | STD:(+/-0.060) | for {'C': 0.0005, 'fit_intercept': False}\n",
      "MEAN: 0.943 | STD:(+/-0.055) | for {'C': 0.001, 'fit_intercept': True}\n",
      "MEAN: 0.943 | STD:(+/-0.055) | for {'C': 0.001, 'fit_intercept': False}\n",
      "MEAN: 0.947 | STD:(+/-0.050) | for {'C': 0.003, 'fit_intercept': True}\n",
      "MEAN: 0.947 | STD:(+/-0.050) | for {'C': 0.003, 'fit_intercept': False}\n",
      "MEAN: 0.951 | STD:(+/-0.043) | for {'C': 0.01, 'fit_intercept': True}\n",
      "MEAN: 0.951 | STD:(+/-0.043) | for {'C': 0.01, 'fit_intercept': False}\n",
      "MEAN: 0.951 | STD:(+/-0.039) | for {'C': 0.03, 'fit_intercept': True}\n",
      "MEAN: 0.951 | STD:(+/-0.039) | for {'C': 0.03, 'fit_intercept': False}\n",
      "MEAN: 0.953 | STD:(+/-0.036) | for {'C': 0.1, 'fit_intercept': True}\n",
      "MEAN: 0.953 | STD:(+/-0.036) | for {'C': 0.1, 'fit_intercept': False}\n",
      "MEAN: 0.946 | STD:(+/-0.038) | for {'C': 0.3, 'fit_intercept': True}\n",
      "MEAN: 0.945 | STD:(+/-0.038) | for {'C': 0.3, 'fit_intercept': False}\n",
      "MEAN: 0.943 | STD:(+/-0.036) | for {'C': 1, 'fit_intercept': True}\n",
      "MEAN: 0.943 | STD:(+/-0.036) | for {'C': 1, 'fit_intercept': False}\n",
      "\n"
     ]
    }
   ],
   "source": [
    "means_cv_log_reg = cv_log_reg.cv_results_['mean_test_score']\n",
    "stds_cv_log_reg = cv_log_reg.cv_results_['std_test_score']\n",
    "for mean, std, params in zip(means_cv_log_reg, stds_cv_log_reg, cv_log_reg.cv_results_['params']):\n",
    "    print(\"MEAN: %0.3f | STD:(+/-%0.03f) | for %r\" % (mean, std * 2, params))\n",
    "print()"
   ]
  },
  {
   "cell_type": "markdown",
   "metadata": {},
   "source": [
    "**The average accuracies for $C\\in{0.0001, 0.0005, 0.001, 0.003, 0.01, 0.03, 0.1, 0.3, 1}$ and $fit intercept\\in{True, False}$ are plotted below (Figure 3). The scatterplot approves that the best accuracy was reached for $C=0.1$ because the accuracy is the highest for that value. Besides, the scatterplot approves that ```True``` is a better value for the parameter best_intercept (orange) than ```False``` (blue) - orange points reach higher values of accuracy than the blue ones.**"
   ]
  },
  {
   "cell_type": "code",
   "execution_count": 323,
   "metadata": {},
   "outputs": [
    {
     "data": {
      "text/plain": [
       "<matplotlib.text.Text at 0xe42cf92b0>"
      ]
     },
     "execution_count": 323,
     "metadata": {},
     "output_type": "execute_result"
    },
    {
     "data": {
      "image/png": "[encoded data removed]",
      "text/plain": [
       "<matplotlib.figure.Figure at 0xe42d064a8>"
      ]
     },
     "metadata": {},
     "output_type": "display_data"
    }
   ],
   "source": [
    "plt.scatter(log_reg_params, means_cv_log_reg[::2])\n",
    "plt.scatter(log_reg_params, means_cv_log_reg[1::2])\n",
    "plt.title('Figure 3: \\n Average accuracies for different values of C')\n",
    "plt.xlabel('C')\n",
    "plt.ylabel('Average aaccuracy')"
   ]
  },
  {
   "cell_type": "markdown",
   "metadata": {},
   "source": [
    "**The standard deviations of the accuracies for $C\\in{0.0001, 0.0005, 0.001, 0.003, 0.01, 0.03, 0.1, 0.3, 1}$ and $fit intercept\\in{True, False}$ are plotted the below (Figure 4). (orange color is used for fit_parameter=```True``` and blue for fit_parameter=```False```, but since a lot of points are almost overlapping, the blue ones are not very noticable)**"
   ]
  },
  {
   "cell_type": "code",
   "execution_count": 324,
   "metadata": {},
   "outputs": [
    {
     "data": {
      "text/plain": [
       "<matplotlib.text.Text at 0xe42ceddd8>"
      ]
     },
     "execution_count": 324,
     "metadata": {},
     "output_type": "execute_result"
    },
    {
     "data": {
      "image/png": "[encoded data removed]",
      "text/plain": [
       "<matplotlib.figure.Figure at 0xe42da55f8>"
      ]
     },
     "metadata": {},
     "output_type": "display_data"
    }
   ],
   "source": [
    "plt.scatter(log_reg_params, stds_cv_log_reg[::2])\n",
    "plt.scatter(log_reg_params, stds_cv_log_reg[1::2])\n",
    "plt.title('Figure 4: \\n Standard deviation of accuracies for different values of C')\n",
    "plt.xlabel('C')\n",
    "plt.ylabel('Standard deviation of accuracy')"
   ]
  },
  {
   "cell_type": "markdown",
   "metadata": {},
   "source": [
    "**Below are the accuracy scores obtained for the default and the optimized version of the logistic regression classifier. (Of course, the accuracy on the test set is always slightly lower than the one on the train set. I printed all of them to show this occurance.)**"
   ]
  },
  {
   "cell_type": "code",
   "execution_count": 305,
   "metadata": {},
   "outputs": [
    {
     "name": "stdout",
     "output_type": "stream",
     "text": [
      "log_reg (no cv): TRAIN  0.89\n",
      "log_reg (no cv): TEST  0.804713804714\n",
      "opt_log_reg: TRAIN 0.946215275337\n",
      "opt_log_reg: TEST 0.921381092026\n"
     ]
    }
   ],
   "source": [
    "print('log_reg (no cv): TRAIN ',log_reg.score(X_train_mnist, Y_train_mnist))\n",
    "print('log_reg (no cv): TEST ',log_reg.score(X_test_mnist, Y_test_mnist))\n",
    "print('opt_log_reg: TRAIN', average(cross_val_score(opt_log_reg, X_train_mnist, Y_train_mnist, cv=10)))\n",
    "print('opt_log_reg: TEST', average(cross_val_score(opt_log_reg, X_test_mnist, Y_test_mnist, cv=10)))"
   ]
  },
  {
   "cell_type": "markdown",
   "metadata": {},
   "source": [
    "**It is observable that the accuracy score is significantly improved after optimizing the parameter of the classifier. Thus opt_log_reg is the better performing one.**"
   ]
  },
  {
   "cell_type": "markdown",
   "metadata": {},
   "source": [
    "#### Accuracy of logistic regression\n",
    "| Classifier    | Average Score |\n",
    "|:---          |:---:          |\n",
    "| Default Logistic Regression   | 0.804713804714|\n",
    "| Optimized Logistic Regression | 0.921381092026|"
   ]
  },
  {
   "cell_type": "markdown",
   "metadata": {},
   "source": [
    "**Below is the classification report of the better performing classifier for logistic regression classification, namely opt_log_reg. :**\n",
    "* **The average precision is 0.89, meaning that of all predictions, 89% of them were correct; **\n",
    "* **The average recall is 0.89, meaning that the classifier correctly classifies 89% of the instances;**\n",
    "* **The average f1-score is 0.89, which is significantly high.**\n",
    "\n",
    "**The metrices in the classification report match the best score of the classifier, presented in the table above.**"
   ]
  },
  {
   "cell_type": "code",
   "execution_count": 236,
   "metadata": {},
   "outputs": [
    {
     "name": "stdout",
     "output_type": "stream",
     "text": [
      "             precision    recall  f1-score   support\n",
      "\n",
      "          0       1.00      0.93      0.96        27\n",
      "          1       0.76      0.84      0.80        31\n",
      "          2       1.00      1.00      1.00        27\n",
      "          3       0.83      0.63      0.72        30\n",
      "          4       0.97      0.91      0.94        33\n",
      "          5       0.90      0.93      0.92        30\n",
      "          6       0.97      1.00      0.98        30\n",
      "          7       0.90      0.90      0.90        30\n",
      "          8       0.72      0.93      0.81        28\n",
      "          9       0.90      0.84      0.87        31\n",
      "\n",
      "avg / total       0.89      0.89      0.89       297\n",
      "\n"
     ]
    }
   ],
   "source": [
    "print(classification_report(Y_test_mnist, opt_log_reg.predict(X_test_mnist)))"
   ]
  },
  {
   "cell_type": "markdown",
   "metadata": {},
   "source": [
    "### Comparison"
   ]
  },
  {
   "cell_type": "markdown",
   "metadata": {},
   "source": [
    "**Below is the confusion matrix of the better performing classifier for k-nn classification, namely opt_knn. The values along the diagonal of the matrix are much higher than the rest of the values in the matrix. Besides, the rest of the values are mostly zeroes, except for 7 ones. That shows that the classifier has a very hgih accuracy, and it only misclassifies a small portion of the test dataset.**"
   ]
  },
  {
   "cell_type": "code",
   "execution_count": 311,
   "metadata": {},
   "outputs": [
    {
     "name": "stdout",
     "output_type": "stream",
     "text": [
      "[[27  0  0  0  0  0  0  0  0  0]\n",
      " [ 0 31  0  0  0  0  0  0  0  0]\n",
      " [ 0  0 27  0  0  0  0  0  0  0]\n",
      " [ 0  0  1 26  0  1  0  1  1  0]\n",
      " [ 0  0  0  0 30  0  0  1  1  1]\n",
      " [ 0  0  0  0  0 30  0  0  0  0]\n",
      " [ 0  0  0  0  0  0 30  0  0  0]\n",
      " [ 0  0  0  0  0  0  0 30  0  0]\n",
      " [ 0  2  0  0  0  0  0  0 26  0]\n",
      " [ 0  0  0  1  0  2  0  0  0 28]]\n"
     ]
    }
   ],
   "source": [
    "print(confusion_matrix(Y_test_mnist, opt_knn.predict(X_test_mnist)))"
   ]
  },
  {
   "cell_type": "markdown",
   "metadata": {},
   "source": [
    "**Below is the confusion matrix of the better performing classifier for logistic regression classification, namely opt_log_reg. The values along the diagonal of the matrix are much higher than the rest of the values in the matrix. Besides, the rest of the values are mostly zeroes, except for 5 ones, 2 twos, 2 threes and 1 five. That shows that the classifier has a relatively hgih accuracy, but it still misclassifies some test instances.**"
   ]
  },
  {
   "cell_type": "code",
   "execution_count": 310,
   "metadata": {},
   "outputs": [
    {
     "name": "stdout",
     "output_type": "stream",
     "text": [
      "[[25  0  0  0  1  0  1  0  0  0]\n",
      " [ 0 26  0  2  0  0  0  0  3  0]\n",
      " [ 0  0 27  0  0  0  0  0  0  0]\n",
      " [ 0  1  0 19  0  3  0  2  5  0]\n",
      " [ 0  0  0  0 30  0  0  0  0  3]\n",
      " [ 0  2  0  0  0 28  0  0  0  0]\n",
      " [ 0  0  0  0  0  0 30  0  0  0]\n",
      " [ 0  1  0  0  0  0  0 27  2  0]\n",
      " [ 0  2  0  0  0  0  0  0 26  0]\n",
      " [ 0  2  0  2  0  0  0  1  0 26]]\n"
     ]
    }
   ],
   "source": [
    "print(confusion_matrix(Y_test_mnist, opt_log_reg.predict(X_test_mnist)))"
   ]
  },
  {
   "cell_type": "markdown",
   "metadata": {},
   "source": [
    "**By looking at the two matrices, we could notice that most of the values in the diagonal of the 1st matrix are bigger than or equal to the values in the diagonal of the 2nd matrix. Since the values in the diagonal are the number of true positives for each class, this leads to the conclusion that opt_knn is a better classifer than opt_log_reg. Moreover, by looking at the rest of the values (with same idices) in the matrices, we could notice that the ones in the 2nd matrix are relatively higher than the ones in the 1st one. Since these numbers represent the false positives, this again shows that opt_knn is a better classifier than opt_log_reg. **\n",
    "\n",
    "**Indeed, if we look at the accuracy scores (in the table below), we could cderive the same conclusion because $0.957763658086>0.921381092026$.**\n",
    "\n",
    "| Classifier    | Average Score |\n",
    "|:---          |:---:          |\n",
    "| Optimized k-nn  | 0.957763658086|\n",
    "| Optimized Logistic Regression | 0.921381092026|"
   ]
  },
  {
   "cell_type": "markdown",
   "metadata": {},
   "source": [
    "## Bonus: Decision Tree (training and results)"
   ]
  },
  {
   "cell_type": "markdown",
   "metadata": {},
   "source": [
    "**Training phase similar as the one described in the previous section was applied to optimize the performance of Decision Tree Classifier. The range of values for which the parameter presort was evaluated while optimiming decision tree are the {```True```, ```False```}. **"
   ]
  },
  {
   "cell_type": "code",
   "execution_count": 252,
   "metadata": {},
   "outputs": [
    {
     "data": {
      "text/plain": [
       "DecisionTreeClassifier(class_weight=None, criterion='gini', max_depth=None,\n",
       "            max_features=None, max_leaf_nodes=None,\n",
       "            min_impurity_split=1e-07, min_samples_leaf=1,\n",
       "            min_samples_split=2, min_weight_fraction_leaf=0.0,\n",
       "            presort=False, random_state=None, splitter='best')"
      ]
     },
     "execution_count": 252,
     "metadata": {},
     "output_type": "execute_result"
    }
   ],
   "source": [
    "# trains decition tree with default settings\n",
    "dt=DecisionTreeClassifier()\n",
    "dt.fit(X_train_mnist, Y_train_mnist)"
   ]
  },
  {
   "cell_type": "code",
   "execution_count": 253,
   "metadata": {},
   "outputs": [
    {
     "data": {
      "text/plain": [
       "GridSearchCV(cv=10, error_score='raise',\n",
       "       estimator=DecisionTreeClassifier(class_weight=None, criterion='gini', max_depth=None,\n",
       "            max_features=None, max_leaf_nodes=None,\n",
       "            min_impurity_split=1e-07, min_samples_leaf=1,\n",
       "            min_samples_split=2, min_weight_fraction_leaf=0.0,\n",
       "            presort=False, random_state=None, splitter='best'),\n",
       "       fit_params={}, iid=True, n_jobs=1,\n",
       "       param_grid={'presort': [True, False]}, pre_dispatch='2*n_jobs',\n",
       "       refit=True, return_train_score=True, scoring=None, verbose=0)"
      ]
     },
     "execution_count": 253,
     "metadata": {},
     "output_type": "execute_result"
    }
   ],
   "source": [
    "# Optimizes decision tree\n",
    "dt_params=[True, False]\n",
    "cv_dt = GridSearchCV(estimator=DecisionTreeClassifier(), param_grid = dict(presort=[True, False]), cv=10)\n",
    "cv_dt.fit(X_train_mnist, Y_train_mnist)"
   ]
  },
  {
   "cell_type": "code",
   "execution_count": 312,
   "metadata": {},
   "outputs": [
    {
     "data": {
      "text/plain": [
       "DecisionTreeClassifier(class_weight=None, criterion='gini', max_depth=None,\n",
       "            max_features=None, max_leaf_nodes=None,\n",
       "            min_impurity_split=1e-07, min_samples_leaf=1,\n",
       "            min_samples_split=2, min_weight_fraction_leaf=0.0,\n",
       "            presort=False, random_state=None, splitter='best')"
      ]
     },
     "execution_count": 312,
     "metadata": {},
     "output_type": "execute_result"
    }
   ],
   "source": [
    "opt_dt=DecisionTreeClassifier(presort=False)\n",
    "opt_dt.fit(X_train_mnist, Y_train_mnist)"
   ]
  },
  {
   "cell_type": "markdown",
   "metadata": {},
   "source": [
    "**The optimal value of the parameter *presort* of k-nn was ```False```. **"
   ]
  },
  {
   "cell_type": "code",
   "execution_count": 317,
   "metadata": {},
   "outputs": [
    {
     "name": "stdout",
     "output_type": "stream",
     "text": [
      "The optimmal value of the parameter presort:  {'presort': False}\n"
     ]
    }
   ],
   "source": [
    "print('The optimmal value of the parameter presort: ', cv_dt.best_params_)"
   ]
  },
  {
   "cell_type": "markdown",
   "metadata": {},
   "source": [
    "**The average cross-validaiton accuracies and standard deviations of the accuracy for $presort\\in{True, False}$ are the following:**"
   ]
  },
  {
   "cell_type": "code",
   "execution_count": 257,
   "metadata": {},
   "outputs": [
    {
     "name": "stdout",
     "output_type": "stream",
     "text": [
      "MEAN: 0.824 | STD:(+/-0.113) | for {'presort': True}\n",
      "MEAN: 0.827 | STD:(+/-0.095) | for {'presort': False}\n",
      "\n"
     ]
    }
   ],
   "source": [
    "means_cv_dt = cv_dt.cv_results_['mean_test_score']\n",
    "stds_cv_dt = cv_dt.cv_results_['std_test_score']\n",
    "for mean, std, params in zip(means_cv_dt, stds_cv_dt, cv_dt.cv_results_['params']):\n",
    "    print(\"MEAN: %0.3f | STD:(+/-%0.03f) | for %r\" % (mean, std * 2, params))\n",
    "print()"
   ]
  },
  {
   "cell_type": "markdown",
   "metadata": {},
   "source": [
    "**The average accuracies for $presort\\in{True, False}$ are plotted below (Figure 5). The scatterplot approves that the best accuracy was reached for $presort=False$ because for this value the accuracy is the highest. (In the plot, 0=False and 1=True)**"
   ]
  },
  {
   "cell_type": "code",
   "execution_count": 325,
   "metadata": {},
   "outputs": [
    {
     "data": {
      "text/plain": [
       "<matplotlib.text.Text at 0xe42dc2ba8>"
      ]
     },
     "execution_count": 325,
     "metadata": {},
     "output_type": "execute_result"
    },
    {
     "data": {
      "image/png": "[encoded data removed]",
      "text/plain": [
       "<matplotlib.figure.Figure at 0xe42e43c18>"
      ]
     },
     "metadata": {},
     "output_type": "display_data"
    }
   ],
   "source": [
    "plt.scatter(dt_params, means_cv_dt)\n",
    "plt.scatter(dt_params, means_cv_dt)\n",
    "plt.title('Figure 5: \\n Average accuracies for different values of presort')\n",
    "plt.xlabel('presort')\n",
    "plt.ylabel('Average aaccuracy')"
   ]
  },
  {
   "cell_type": "markdown",
   "metadata": {},
   "source": [
    "**The standard deviations of the accuracies for $presort\\in{True, False}$ are plotted the below (Figure 6).**"
   ]
  },
  {
   "cell_type": "code",
   "execution_count": 326,
   "metadata": {},
   "outputs": [
    {
     "data": {
      "text/plain": [
       "<matplotlib.text.Text at 0xe42ef48d0>"
      ]
     },
     "execution_count": 326,
     "metadata": {},
     "output_type": "execute_result"
    },
    {
     "data": {
      "image/png": "[encoded data removed]",
      "text/plain": [
       "<matplotlib.figure.Figure at 0xe42e7a630>"
      ]
     },
     "metadata": {},
     "output_type": "display_data"
    }
   ],
   "source": [
    "plt.scatter(dt_params, stds_cv_dt)\n",
    "plt.scatter(dt_params, stds_cv_dt)\n",
    "plt.title('Figure 6: \\n Standard deviation of accuracies for different values of presort')\n",
    "plt.xlabel('presort')\n",
    "plt.ylabel('Standard deviation of accuracy')"
   ]
  },
  {
   "cell_type": "markdown",
   "metadata": {},
   "source": [
    "**Below are the accuracy scores obtained for the default and the optimized version of the decision tree classifier. (Of course, the accuracy on the test set is always slightly lower than the one on the train set. I printed all of them to show this occurance.)**"
   ]
  },
  {
   "cell_type": "code",
   "execution_count": 320,
   "metadata": {},
   "outputs": [
    {
     "name": "stdout",
     "output_type": "stream",
     "text": [
      "dt (no cv): TRAIN  1.0\n",
      "dt (no cv): TEST  0.771043771044\n",
      "dt: TRAIN 0.83100003361\n",
      "dt: TEST 0.792568387407\n",
      "opt_dt: TRAIN 0.830975936124\n",
      "opt_dt: TEST 0.770518627132\n"
     ]
    }
   ],
   "source": [
    "print('dt (no cv): TRAIN ',dt.score(X_train_mnist, Y_train_mnist))\n",
    "print('dt (no cv): TEST ',dt.score(X_test_mnist, Y_test_mnist))\n",
    "print('dt: TRAIN', average(cross_val_score(dt, X_train_mnist, Y_train_mnist, cv=10)))\n",
    "print('dt: TEST', average(cross_val_score(dt, X_test_mnist, Y_test_mnist, cv=10)))\n",
    "print('opt_dt: TRAIN', average(cross_val_score(opt_dt, X_train_mnist, Y_train_mnist, cv=10)))\n",
    "print('opt_dt: TEST', average(cross_val_score(opt_dt, X_test_mnist, Y_test_mnist, cv=10)))"
   ]
  },
  {
   "cell_type": "markdown",
   "metadata": {},
   "source": [
    "#### Accuracy of decision tree\n",
    "| Classifier    | Average Score |\n",
    "|:---          |:---:          |\n",
    "| Default Decision Tree   | 0.771043771044|\n",
    "| Optimized Tree | 0.770518627132|"
   ]
  },
  {
   "cell_type": "markdown",
   "metadata": {},
   "source": [
    "**Below is the classification report of the better performing classifier for decision tree classification, namely opt_dt. :**\n",
    "* **The average precision is 0.77, meaning that of all predictions, 77% of them were correct; **\n",
    "* **The average recall is 0.76, meaning that the classifier correctly classifies 76% of the instances;**\n",
    "* **The average f1-score is 0.76, which is not relatively high.**\n",
    "\n",
    "**The metrices in the classification report match the best score of the classifier, presented in the table above.**"
   ]
  },
  {
   "cell_type": "code",
   "execution_count": 296,
   "metadata": {},
   "outputs": [
    {
     "name": "stdout",
     "output_type": "stream",
     "text": [
      "             precision    recall  f1-score   support\n",
      "\n",
      "          0       0.96      0.93      0.94        27\n",
      "          1       0.72      0.58      0.64        31\n",
      "          2       0.77      0.74      0.75        27\n",
      "          3       0.73      0.53      0.62        30\n",
      "          4       0.71      0.88      0.78        33\n",
      "          5       0.93      0.83      0.88        30\n",
      "          6       0.93      0.83      0.88        30\n",
      "          7       0.70      0.87      0.78        30\n",
      "          8       0.53      0.64      0.58        28\n",
      "          9       0.72      0.74      0.73        31\n",
      "\n",
      "avg / total       0.77      0.76      0.76       297\n",
      "\n"
     ]
    }
   ],
   "source": [
    "print(classification_report(Y_test_mnist, opt_dt.predict(X_test_mnist)))"
   ]
  },
  {
   "cell_type": "markdown",
   "metadata": {},
   "source": [
    "**Below is the confusion matrix of the better performing classifier for decision tree classification, namely opt_log_reg. The values along the diagonal of the matrix are higher than the rest of the values in the matrix. However, there are a lot of values in the matrix (among the the values NOT in the deagonal) which are not zeros. This indicates that the classifier doesn't make very reliable predictions, and thus is not the best choice for this dataset.**"
   ]
  },
  {
   "cell_type": "code",
   "execution_count": 261,
   "metadata": {},
   "outputs": [
    {
     "name": "stdout",
     "output_type": "stream",
     "text": [
      "[[25  0  0  0  1  0  0  1  0  0]\n",
      " [ 0 20  3  1  1  0  0  0  5  1]\n",
      " [ 1  0 21  2  0  0  0  1  2  0]\n",
      " [ 0  1  1 16  0  3  1  4  4  0]\n",
      " [ 0  0  0  0 30  0  0  2  0  1]\n",
      " [ 0  0  0  1  0 27  1  0  0  1]\n",
      " [ 0  0  1  0  1  1 25  0  2  0]\n",
      " [ 0  0  0  3  0  1  0 25  0  1]\n",
      " [ 0  3  1  2  1  0  0  1 17  3]\n",
      " [ 0  2  0  1  0  1  0  4  0 23]]\n"
     ]
    }
   ],
   "source": [
    "print(confusion_matrix(Y_test_mnist, opt_dt.predict(X_test_mnist)))"
   ]
  },
  {
   "cell_type": "markdown",
   "metadata": {},
   "source": [
    "**Indeed, by comparing the classification accuracy of the optimized decision tree classifier to the optimized k-nn and optimized logistic regression, we can obverve that it is the classifier with poorest performance among the three of them. (Look at the table below)**\n",
    "\n",
    "| Classifier    | Average Score |\n",
    "|:---          |:---:          |\n",
    "| Optimized k-nn  | 0.957763658086|\n",
    "| Optimized Logistic Regression  | 0.921381092026|\n",
    "| Optimized Tree | 0.770518627132|"
   ]
  },
  {
   "cell_type": "markdown",
   "metadata": {},
   "source": [
    "# PART 2"
   ]
  },
  {
   "cell_type": "code",
   "execution_count": 198,
   "metadata": {
    "collapsed": true
   },
   "outputs": [],
   "source": [
    "x1 = [1, 1, 2, 3, 4, 4, 4, 7, 8, 8, 8]\n",
    "x2 = [3, 6, 6, 5, 1, 3, 6, 7, 6, 7, 3]\n",
    "y = [0, 0, 1, 1, 0, 0, 1, 1, 1, 0, 0] \n",
    "X=reshape([item for pair in zip(x1, x2) for item in pair], (11,2))"
   ]
  },
  {
   "cell_type": "code",
   "execution_count": 200,
   "metadata": {
    "scrolled": true
   },
   "outputs": [
    {
     "data": {
      "image/png": "[encoded data removed]",
      "text/plain": [
       "<matplotlib.figure.Figure at 0xe3e14cf60>"
      ]
     },
     "metadata": {},
     "output_type": "display_data"
    }
   ],
   "source": [
    "clf1 = DecisionTreeClassifier()\n",
    "clf2 = KNeighborsClassifier()\n",
    "clf3 = LogisticRegression()\n",
    "eclf = make_pipeline(PolynomialFeatures(2), LogisticRegression())\n",
    "\n",
    "clf1.fit(X, y)\n",
    "clf2.fit(X, y)\n",
    "clf3.fit(X, y)\n",
    "eclf.fit(X, y)\n",
    "\n",
    "# Plotting decision regions\n",
    "x_min, x_max = X[:, 0].min() - 1, X[:, 0].max() + 1\n",
    "y_min, y_max = X[:, 1].min() - 1, X[:, 1].max() + 1\n",
    "xx, yy = np.meshgrid(np.arange(x_min, x_max, 0.1),\n",
    "                     np.arange(y_min, y_max, 0.1))\n",
    "\n",
    "f, axarr = plt.subplots(2, 2, sharex='col', sharey='row', figsize=(10, 8))\n",
    "\n",
    "for idx, clf, tt in zip(product([0, 1], [0, 1]),\n",
    "                        [clf1, clf2, clf3, eclf],\n",
    "                        ['Decision Tree', 'KNN',\n",
    "                         'Logistic Regression', 'Logistic Regression with quadratic features']):\n",
    "\n",
    "    Z = clf.predict(np.c_[xx.ravel(), yy.ravel()])\n",
    "    Z = Z.reshape(xx.shape)\n",
    "\n",
    "    axarr[idx[0], idx[1]].contourf(xx, yy, Z, alpha=0.4)\n",
    "    axarr[idx[0], idx[1]].scatter(X[:, 0], X[:, 1], c=y,\n",
    "                                  s=20, edgecolor='k')\n",
    "    axarr[idx[0], idx[1]].set_title(tt)\n",
    "\n",
    "plt.show()"
   ]
  },
  {
   "cell_type": "markdown",
   "metadata": {},
   "source": [
    "**By observing the plots of the 4 classifiers, it is clear that the Decision Tree classifier has the best performance because it correctly cassifies all of the test instances. KNN and Logistics Regression with quadratic features have a slightly worse performance because each of them misclassifies 2 test instances. Expetedly, the classifier with poorest performance is Logistic Regression, misclassifying even 4 test instances because it is the least flexible one (because of the linearity of its classification boundary). To invent a method that uses multiple learning algorithms and combines the results, I would combine Decision Tree (because it is the best performing one) and KNN (because it misclassified test points of only one class, unlike Logistic Regression which misclassified one yellow and one purple point). That would lead to more reliable results because it would improve the performance of KNN, and at the same time it would decrease the preobability of overfitting at the Decision Tree.**"
   ]
  }
 ],
 "metadata": {
  "kernelspec": {
   "display_name": "Python 3",
   "language": "python",
   "name": "python3"
  },
  "language_info": {
   "codemirror_mode": {
    "name": "ipython",
    "version": 3
   },
   "file_extension": ".py",
   "mimetype": "text/x-python",
   "name": "python",
   "nbconvert_exporter": "python",
   "pygments_lexer": "ipython3",
   "version": "3.6.1"
  }
 },
 "nbformat": 4,
 "nbformat_minor": 2
}
