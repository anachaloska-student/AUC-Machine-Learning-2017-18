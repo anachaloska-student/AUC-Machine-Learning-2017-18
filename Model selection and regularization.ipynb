{
 "cells": [
  {
   "cell_type": "markdown",
   "metadata": {},
   "source": [
    "# Model selection and regularization"
   ]
  },
  {
   "cell_type": "markdown",
   "metadata": {},
   "source": [
    "##### Ana Chaloska"
   ]
  },
  {
   "cell_type": "markdown",
   "metadata": {},
   "source": [
    "## Exercise 1"
   ]
  },
  {
   "cell_type": "markdown",
   "metadata": {},
   "source": [
    "Suppose that Gradient Descent finds the following values for the parameters of the logistic\n",
    "regression function: $v_0 = 4, v_1 = 1, v_2 = −2$. Draw the decision boundary in the plane defined\n",
    "by $x_1$ and $x_2$ and indicate where $y = 1$ and $y = 0$. "
   ]
  },
  {
   "cell_type": "markdown",
   "metadata": {},
   "source": [
    "$h_v(x)=v_0+v_1x_1+v_2x_2=0$\n",
    "\n",
    "- First, let's find the $x_1$ intercept:\n",
    "\n",
    "    $x_1=-\\frac{v_0+v_2x_2}{v_1}=-\\frac{4-2x_2}{1}=2x_2-4$\n",
    "\n",
    "    For $x_2=0$:\n",
    "\n",
    "    $x_1={2}\\times{0}-4=-4$\n",
    "\n",
    "- Now, let's find the $x_2$ intercept:\n",
    "\n",
    "    $x_2=-\\frac{v_0+v_1x_1}{v_2}=-\\frac{4+x_1}{-2}=2-\\frac{1}{2}x_1$\n",
    "    \n",
    "    For $x_1=0$:\n",
    "\n",
    "    $x_2=2-\\frac{0}{2}=2$\n",
    "\n",
    "So:\n",
    "\n",
    "$x_1=0$  $\\Rightarrow$ $x_2=2$\n",
    "\n",
    "$x_2=0$ $\\Rightarrow$ $x_2=-4$\n",
    "\n"
   ]
  },
  {
   "cell_type": "code",
   "execution_count": 41,
   "metadata": {},
   "outputs": [
    {
     "data": {
      "image/png": "[encoded data removed]",
      "text/plain": [
       "<matplotlib.figure.Figure at 0xddd8e1ef28>"
      ]
     },
     "metadata": {},
     "output_type": "display_data"
    }
   ],
   "source": [
    "import numpy as np\n",
    "import matplotlib.pyplot as plt\n",
    "\n",
    "x = [0,-4]\n",
    "y = [2,0]\n",
    "\n",
    "plt.plot(x, y)\n",
    "plt.scatter(x, y)\n",
    "plt.title('Decision boundary of logistic regression')\n",
    "plt.text(-1, 0.65, r'$y=0$')\n",
    "plt.text(-3.5, 1.65, r'$y=1$')\n",
    "plt.show()"
   ]
  },
  {
   "cell_type": "markdown",
   "metadata": {},
   "source": [
    "## Exercise 2"
   ]
  },
  {
   "cell_type": "markdown",
   "metadata": {},
   "source": [
    "Given the following data:\n",
    "\n",
    "| X  | Y |\n",
    "|:---|:---:|\n",
    "| 3 | 6 |\n",
    "| 5 | 6 |\n",
    "| 5 | 10 |\n"
   ]
  },
  {
   "cell_type": "markdown",
   "metadata": {},
   "source": [
    "**a)** Manually (using only a calculator) calculate two iterations of the gradient descent algorithm for univariate linear regression function. Initialize the parameters such that the regression function passes through the origin (0, 0) and has an angle of 45 degrees. Use a learning rate of 0.1. Give the intermediate results of your calculations and also compute the mean-squared error of the function after 2 iterations."
   ]
  },
  {
   "cell_type": "markdown",
   "metadata": {},
   "source": [
    "The regression function passes through the origin (0, 0) and has an angle of 45 degrees if $x=y$, so the function is going to pass through the poitns (0,0), (3,3) and (5,5) .So, the parameters are $\\theta_1=1$ and $\\theta_2=-1$. The fucntion with the initilized parameters is:"
   ]
  },
  {
   "cell_type": "code",
   "execution_count": 40,
   "metadata": {},
   "outputs": [
    {
     "data": {
      "image/png": "[encoded data removed]",
      "text/plain": [
       "<matplotlib.figure.Figure at 0xddd8e489e8>"
      ]
     },
     "metadata": {},
     "output_type": "display_data"
    }
   ],
   "source": [
    "x = [0,3,5]\n",
    "y = [0,3,5]\n",
    "\n",
    "plt.plot(x, y)\n",
    "plt.scatter(x, y)\n",
    "plt.title('Decision boundary of logistic regression')\n",
    "plt.text(2, 0.65, r'$y=0$')\n",
    "plt.text(0.5, 1.65, r'$y=1$')\n",
    "plt.show()"
   ]
  },
  {
   "cell_type": "markdown",
   "metadata": {},
   "source": [
    "- 1st iteration :\n",
    "\t\n",
    "\n",
    "$\\theta_1=1 + {0.1}(({6-3})\\times{3}\\times({1-3})\\times{3})$\n",
    "\n",
    "..."
   ]
  },
  {
   "cell_type": "markdown",
   "metadata": {},
   "source": [
    "- 2nd iteration:\n",
    "\t\n"
   ]
  }
 ],
 "metadata": {
  "kernelspec": {
   "display_name": "Python 3",
   "language": "python",
   "name": "python3"
  },
  "language_info": {
   "codemirror_mode": {
    "name": "ipython",
    "version": 3
   },
   "file_extension": ".py",
   "mimetype": "text/x-python",
   "name": "python",
   "nbconvert_exporter": "python",
   "pygments_lexer": "ipython3",
   "version": "3.6.1"
  }
 },
 "nbformat": 4,
 "nbformat_minor": 2
}
