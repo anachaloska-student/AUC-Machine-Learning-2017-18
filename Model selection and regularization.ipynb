{
 "cells": [
  {
   "cell_type": "markdown",
   "metadata": {},
   "source": [
    "# Model selection and regularization"
   ]
  },
  {
   "cell_type": "markdown",
   "metadata": {},
   "source": [
    "##### Ana Chaloska"
   ]
  },
  {
   "cell_type": "markdown",
   "metadata": {},
   "source": [
    "## Exercise 1"
   ]
  },
  {
   "cell_type": "markdown",
   "metadata": {},
   "source": [
    "Suppose that Gradient Descent finds the following values for the parameters of the logistic\n",
    "regression function: $v_0 = 4, v_1 = 1, v_2 = −2$. Draw the decision boundary in the plane defined\n",
    "by $x_1$ and $x_2$ and indicate where $y = 1$ and $y = 0$. "
   ]
  },
  {
   "cell_type": "markdown",
   "metadata": {},
   "source": [
    "$h_v(x)=v_0+v_1x_1+v_2x_2=0$\n",
    "\n",
    "$x_2=\\frac{v_0+v_1x_1}{v_2}=\\frac{4+x_1}{-2}=-2-\\frac{1}{2}x_1$\n",
    "\n",
    "$x_1=1$  $\\Rightarrow$ $x_2=2.5$\n",
    "\n",
    "$x_1=-1$ $\\Rightarrow$ $x_2=1.5$\n",
    "\n",
    "**I have to draw the graph and indicate the values where $y = 1$ and $y = 0$, but I don't know how to do it in a Notebook yet.**"
   ]
  },
  {
   "cell_type": "markdown",
   "metadata": {},
   "source": []
  }
 ],
 "metadata": {
  "kernelspec": {
   "display_name": "Python 3",
   "language": "python",
   "name": "python3"
  },
  "language_info": {
   "codemirror_mode": {
    "name": "ipython",
    "version": 3
   },
   "file_extension": ".py",
   "mimetype": "text/x-python",
   "name": "python",
   "nbconvert_exporter": "python",
   "pygments_lexer": "ipython3",
   "version": "3.6.1"
  }
 },
 "nbformat": 4,
 "nbformat_minor": 2
}
