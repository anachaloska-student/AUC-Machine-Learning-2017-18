{
 "cells": [
  {
   "cell_type": "markdown",
   "metadata": {},
   "source": [
    "# LabExercise Numpy Exercises"
   ]
  },
  {
   "cell_type": "markdown",
   "metadata": {},
   "source": [
    "##### Ana Chaloska"
   ]
  },
  {
   "cell_type": "markdown",
   "metadata": {},
   "source": [
    "## Array Calculations and Array Indexing"
   ]
  },
  {
   "cell_type": "code",
   "execution_count": 47,
   "metadata": {
    "collapsed": true
   },
   "outputs": [],
   "source": [
    "import numpy as np"
   ]
  },
  {
   "cell_type": "code",
   "execution_count": 145,
   "metadata": {
    "collapsed": true
   },
   "outputs": [],
   "source": [
    "A=np.array([1,2,3])\n",
    "B=np.array([4,5,6])"
   ]
  },
  {
   "cell_type": "markdown",
   "metadata": {},
   "source": [
    "#### 1.Given arrays A and B each of the same size calculate their sum (elementwise) and their product (elementwise)"
   ]
  },
  {
   "cell_type": "code",
   "execution_count": 63,
   "metadata": {},
   "outputs": [
    {
     "name": "stdout",
     "output_type": "stream",
     "text": [
      "The sum of A and B is [5 7 9] .\n",
      "The product of A and B is [ 4 10 18] .\n"
     ]
    }
   ],
   "source": [
    "print('The sum of A and B is',np.add(A,B),'.')\n",
    "print('The product of A and B is',np.multiply(A,B),'.')"
   ]
  },
  {
   "cell_type": "markdown",
   "metadata": {},
   "source": [
    "#### 2.Calculate the mean of all elements in an array A without using the np.mean or np.average functions."
   ]
  },
  {
   "cell_type": "code",
   "execution_count": 64,
   "metadata": {},
   "outputs": [
    {
     "name": "stdout",
     "output_type": "stream",
     "text": [
      "The mean of all elements in A is 2.0 .\n"
     ]
    }
   ],
   "source": [
    "A_mean=np.sum(A)/np.size(A)\n",
    "print('The mean of all elements in A is',A_mean,'.')"
   ]
  },
  {
   "cell_type": "markdown",
   "metadata": {},
   "source": [
    "#### 3.Calculate the standard deviation of all elements in an array A without using np.var or np.std."
   ]
  },
  {
   "cell_type": "code",
   "execution_count": 65,
   "metadata": {},
   "outputs": [
    {
     "name": "stdout",
     "output_type": "stream",
     "text": [
      "The standard deviation of all elements in A is 0.816496580928 .\n"
     ]
    }
   ],
   "source": [
    "A_std=np.sqrt(np.sum(np.square((A-A_mean)))/np.size(np.square((A-A_mean))))\n",
    "print('The standard deviation of all elements in A is', A_std,'.')"
   ]
  },
  {
   "cell_type": "markdown",
   "metadata": {},
   "source": [
    "#### 4.Given an array C with shape (128,) calculate the sum of the first, third, fifth, etc elements (A[0]+A[2]+...)."
   ]
  },
  {
   "cell_type": "code",
   "execution_count": 284,
   "metadata": {},
   "outputs": [
    {
     "name": "stdout",
     "output_type": "stream",
     "text": [
      "The sum of the 1st, 3rd etc. elements in C is 28.7337576617 .\n"
     ]
    }
   ],
   "source": [
    "C=np.random.rand(128) # Creates an array C with shape (128,)\n",
    "D=np.tile((1,0), 64) # Creates an array [1 0 1 0 ...] with shape (128,0)\n",
    "Even_index_sum=np.sum(np.multiply(C,D)) # Multiplies C and D (elementwise), so the odd-index elements become zeros, \n",
    "                                        # then sums up the elements of the product\n",
    "print('The sum of the 1st, 3rd etc. elements in C is', Even_index_sum,'.')\n"
   ]
  },
  {
   "cell_type": "markdown",
   "metadata": {},
   "source": [
    "#### 5.Given an array E with shape (1024,) make an array F containing only the first 512 elements of E. I.e. F-shape should be (512,).\n"
   ]
  },
  {
   "cell_type": "code",
   "execution_count": 430,
   "metadata": {},
   "outputs": [
    {
     "name": "stdout",
     "output_type": "stream",
     "text": [
      "The first 512 elements of E are: \n",
      " [  8.59348187e-02   7.49364890e-01   2.73371871e-01   3.02963604e-01\n",
      "   5.76152215e-01   8.62525898e-01   4.70522695e-01   9.17006811e-01\n",
      "   8.23449744e-01   7.68516037e-01   5.54124227e-01   9.53600997e-01\n",
      "   3.96670498e-01   3.38196897e-01   5.96744913e-01   6.57073520e-01\n",
      "   2.97466763e-01   4.47917483e-01   1.49629636e-01   1.94097387e-01\n",
      "   5.57683434e-02   9.76733473e-01   5.02638044e-01   8.63210559e-02\n",
      "   2.02987086e-01   8.93840245e-02   1.48454579e-01   8.84098423e-01\n",
      "   6.49634705e-01   8.22399454e-01   8.37766252e-01   9.31095725e-01\n",
      "   7.76521654e-01   3.84936769e-01   4.62517747e-01   9.22410073e-01\n",
      "   6.49057932e-01   3.46729042e-01   8.02930427e-01   1.44436001e-01\n",
      "   4.01542474e-01   5.66831916e-01   8.64666473e-01   5.30811195e-01\n",
      "   8.28836427e-01   2.56611280e-01   7.02808972e-01   1.75505569e-01\n",
      "   1.86265932e-01   5.23475658e-01   7.47140837e-01   9.13037797e-01\n",
      "   7.98312728e-01   6.65873505e-01   8.20101964e-02   7.56326195e-01\n",
      "   1.30415729e-01   5.31324984e-01   2.91596758e-02   3.24127884e-01\n",
      "   2.31790730e-01   5.45979644e-02   9.46070752e-01   2.48055405e-01\n",
      "   6.12824507e-01   9.21507711e-01   3.72298409e-01   1.27562663e-02\n",
      "   1.72910650e-01   4.44342047e-01   3.23023890e-01   4.05832832e-01\n",
      "   1.27792973e-01   7.51812986e-01   5.50066159e-01   6.14779995e-01\n",
      "   8.38115418e-01   3.02466866e-01   3.44034251e-01   1.07774609e-01\n",
      "   2.20696416e-01   2.54815653e-01   9.52466910e-01   1.25659447e-01\n",
      "   7.01480307e-02   5.52296142e-01   1.99609858e-01   7.56818120e-01\n",
      "   5.35300605e-01   7.71501731e-01   9.66458808e-01   5.51629490e-01\n",
      "   8.19192983e-01   4.75963963e-01   7.05186708e-01   8.63600276e-01\n",
      "   3.52849205e-01   6.20090393e-01   1.42858970e-01   6.45452874e-01\n",
      "   9.58996558e-02   2.92823216e-01   5.26418235e-01   2.72289209e-01\n",
      "   8.63211382e-01   6.26237159e-02   8.66585256e-01   9.92115512e-01\n",
      "   3.72948408e-01   4.88968996e-01   1.55983349e-01   9.36487241e-01\n",
      "   6.00261321e-01   5.59462239e-01   3.41636228e-01   3.20449593e-01\n",
      "   9.16907737e-01   3.88440570e-01   6.69748073e-01   8.04310668e-01\n",
      "   2.72344603e-01   6.47509576e-01   1.67771042e-01   4.60457469e-01\n",
      "   8.18712284e-01   3.88111704e-01   4.40170071e-01   6.79450937e-01\n",
      "   8.80934701e-01   7.08013597e-02   2.97213306e-01   3.14859963e-01\n",
      "   2.97870176e-01   1.71951256e-01   7.84680274e-02   3.62455492e-01\n",
      "   7.44471738e-01   9.00855688e-01   7.14404553e-01   1.09780855e-01\n",
      "   2.25693289e-04   7.82047063e-01   9.63161791e-01   5.87664327e-01\n",
      "   1.36072508e-01   2.22765578e-01   1.37311126e-01   2.53386123e-01\n",
      "   5.78489529e-02   1.57900716e-01   1.77907484e-01   2.83419383e-01\n",
      "   8.02611404e-01   1.49574927e-01   1.64393655e-01   2.11730355e-01\n",
      "   4.93897617e-01   3.83656821e-01   6.71827627e-01   2.12997043e-01\n",
      "   7.59451607e-01   5.94121677e-03   3.74792419e-01   9.65153023e-01\n",
      "   2.91654154e-01   1.45760852e-01   2.71475624e-02   9.85481652e-01\n",
      "   4.15977826e-01   1.98841534e-01   7.77855112e-01   2.15591933e-01\n",
      "   6.99787313e-01   1.63492557e-01   7.85789820e-02   1.79671789e-01\n",
      "   4.77996778e-01   2.77087255e-01   4.73623823e-01   8.26262140e-01\n",
      "   8.25406287e-01   8.73252702e-02   3.08218572e-01   7.46418575e-01\n",
      "   5.30962229e-02   5.73088319e-02   6.28740056e-01   1.79574342e-01\n",
      "   8.13115001e-01   9.59612962e-01   2.28016758e-01   5.00059498e-02\n",
      "   4.58739538e-01   4.30420354e-01   2.51520962e-01   2.81216908e-01\n",
      "   9.65871037e-01   9.21616485e-01   7.67108711e-01   7.95557079e-02\n",
      "   5.34739302e-01   8.23722641e-01   7.65933178e-01   4.84972265e-01\n",
      "   4.03644116e-01   4.97261314e-01   2.21346283e-01   7.47588370e-01\n",
      "   2.96684695e-01   5.01529390e-01   3.76778772e-01   1.47568043e-01\n",
      "   6.16781953e-02   5.58213989e-01   7.00629312e-01   2.59058035e-01\n",
      "   3.02692513e-01   3.91603132e-01   1.78628668e-01   7.00877005e-02\n",
      "   2.51497099e-01   9.88147896e-01   4.67927114e-01   9.79327958e-01\n",
      "   6.43401443e-01   2.29001730e-01   5.70533894e-01   7.35698766e-01\n",
      "   9.36904070e-02   8.92485675e-01   4.51322008e-01   4.34285617e-01\n",
      "   6.79265309e-02   9.70783450e-01   1.43913629e-01   6.56933249e-01\n",
      "   4.63512974e-01   3.74949001e-02   7.67678061e-01   1.33836869e-01\n",
      "   4.04001340e-01   9.22923831e-01   8.58978683e-01   3.74651528e-01\n",
      "   1.12043700e-01   7.62726529e-01   6.03704703e-01   3.82501601e-01\n",
      "   2.48765711e-01   6.92497149e-01   3.86640221e-01   9.73483781e-01\n",
      "   8.33255219e-01   4.56192224e-01   9.58830407e-01   2.69730964e-01\n",
      "   6.01230749e-01   8.85807661e-01   7.01411898e-01   1.47888604e-01\n",
      "   6.38625885e-01   7.34544959e-01   2.54034805e-01   4.96442087e-01\n",
      "   5.92184914e-01   6.42258709e-01   9.79074024e-02   1.63207319e-01\n",
      "   8.57999866e-01   3.69025080e-01   2.82694275e-02   7.21899971e-01\n",
      "   8.67323195e-01   1.36947489e-02   9.97899497e-01   6.12590686e-02\n",
      "   3.75218059e-01   9.19833723e-01   6.21133974e-01   4.64313794e-01\n",
      "   8.47573932e-01   7.72251471e-01   7.34171872e-01   3.28284249e-01\n",
      "   3.61290211e-01   1.11655312e-01   4.78903520e-02   3.15519680e-01\n",
      "   1.48362613e-01   2.28266822e-01   5.24824511e-03   4.46556918e-01\n",
      "   4.69852435e-01   6.24609151e-01   1.53940911e-01   6.20946022e-01\n",
      "   1.57667361e-01   2.41381222e-01   3.85741475e-01   5.42819500e-01\n",
      "   5.31538736e-01   2.65447232e-01   9.95564129e-01   2.94260117e-01\n",
      "   4.37719495e-03   7.13358814e-01   7.75432140e-01   7.90993521e-02\n",
      "   1.70282964e-01   4.99781858e-01   7.60647163e-01   6.42134363e-01\n",
      "   4.53006477e-01   3.65258237e-01   2.40509629e-01   6.82221048e-01\n",
      "   5.18624435e-01   7.68322063e-01   1.35945886e-01   5.22190589e-01\n",
      "   6.15255133e-02   3.25342452e-01   2.49220363e-01   4.19723268e-01\n",
      "   4.45449411e-01   1.28984945e-01   7.39816526e-01   8.33432998e-01\n",
      "   2.69060632e-01   9.05606446e-01   9.11228983e-02   7.89937875e-01\n",
      "   7.84757587e-01   5.66139579e-02   5.99604913e-01   2.30423082e-01\n",
      "   3.50161544e-01   6.47215596e-02   7.85969575e-01   2.41452366e-01\n",
      "   3.86228433e-01   5.09253002e-01   9.50349996e-01   7.55829047e-01\n",
      "   1.89318598e-01   9.43014675e-01   2.20081776e-01   6.85344177e-01\n",
      "   5.06019359e-01   6.00733142e-01   8.17498110e-01   8.36728821e-01\n",
      "   1.10635343e-01   6.84023956e-01   2.15570904e-01   4.41443254e-01\n",
      "   1.95394242e-01   5.72677736e-01   2.28789392e-01   2.26888247e-01\n",
      "   7.82749581e-01   5.44314424e-01   4.51236564e-01   2.41466222e-01\n",
      "   5.38911479e-01   3.52569656e-01   4.35389877e-01   4.46787758e-01\n",
      "   8.99667866e-01   3.30049261e-01   6.53418752e-01   2.25063531e-01\n",
      "   8.52122018e-03   9.85286429e-01   1.90212669e-01   3.05600918e-01\n",
      "   6.55494597e-01   6.24795000e-01   3.36931837e-01   3.66615724e-01\n",
      "   3.19165994e-01   6.12572538e-01   6.85878425e-01   4.75737489e-01\n",
      "   2.84426337e-01   1.09225197e-01   1.82569586e-01   6.25317446e-01\n",
      "   4.99004999e-01   6.58021464e-01   9.78895538e-01   7.76391212e-01\n",
      "   6.42064113e-01   3.09073719e-01   9.81868181e-03   1.73902571e-01\n",
      "   7.29547039e-01   9.75301669e-01   3.81254808e-01   5.46335469e-01\n",
      "   4.38378083e-01   9.75963722e-01   9.68272379e-01   9.36148421e-01\n",
      "   1.97597439e-01   4.55195848e-02   2.53065739e-01   9.53097131e-01\n",
      "   1.60593466e-01   5.97459575e-01   5.43147483e-01   9.23251423e-01\n",
      "   1.26530659e-01   8.82035872e-01   2.05978836e-02   5.83681061e-01\n",
      "   8.98856984e-01   3.43786714e-01   8.28743375e-01   8.36256333e-01\n",
      "   2.32207777e-01   8.81885649e-01   5.43255323e-01   4.45728246e-02\n",
      "   9.87743262e-01   2.40017899e-02   1.49110038e-01   2.30730147e-01\n",
      "   2.74636895e-01   9.79765889e-01   4.11088111e-01   3.72422191e-02\n",
      "   9.93326675e-01   2.31248133e-01   9.10983105e-01   8.60881735e-01\n",
      "   4.58508451e-01   5.75512542e-01   7.65591734e-04   3.21605460e-02\n",
      "   9.78110090e-01   5.38095725e-01   7.83355381e-01   2.87384655e-01\n",
      "   4.36849254e-01   5.60162690e-01   6.75323086e-01   1.11669452e-01\n",
      "   2.79799166e-01   9.17955401e-01   4.64453976e-01   2.13124825e-01\n",
      "   2.38695113e-01   3.29387049e-01   8.58788187e-01   5.52709215e-01\n",
      "   2.99977233e-01   9.08184552e-01   4.87221607e-01   4.31785866e-01\n",
      "   1.24360333e-01   8.84737511e-01   1.80398204e-01   9.76111217e-01\n",
      "   5.35899896e-01   2.88541849e-01   4.74220324e-01   5.11033998e-02\n",
      "   7.37867548e-01   3.38729073e-01   8.67535762e-01   9.37070437e-02\n",
      "   2.09267722e-01   6.93304094e-01   2.08942790e-01   9.92347335e-01\n",
      "   4.21900509e-01   8.83672309e-01   8.00405309e-01   8.93420040e-01\n",
      "   2.44075382e-01   9.89960834e-01   2.14833807e-01   5.06134254e-01\n",
      "   5.10732993e-01   3.39920367e-01   4.37181374e-01   1.98945956e-01\n",
      "   5.59252364e-01   1.89225681e-01   1.35662434e-01   9.92339197e-01\n",
      "   5.92951332e-02   5.55462597e-01   8.37178716e-01   8.98272265e-01\n",
      "   5.06754002e-01   1.30113739e-02   8.00037848e-01   5.41592062e-01\n",
      "   2.54820114e-01   4.13096570e-01   7.70185867e-01   8.00725716e-01\n",
      "   7.48378849e-01   4.05392100e-01   2.12431696e-02   8.52333333e-01\n",
      "   4.37827218e-01   1.47166934e-01   5.34417611e-01   7.78773318e-01]\n"
     ]
    }
   ],
   "source": [
    "E=np.random.rand(1024) # Creates an array E with shape (1024,)\n",
    "E_reshape=np.reshape(E, (2, 512)) # Reshapes E into an array with shape (2,512)\n",
    "E_row1=E_reshape[0,:] # Selects the 1st row of E which includes the first 512 elements of E\n",
    "print('The first 512 elements of E are:',\"\\n\", E_row1)"
   ]
  },
  {
   "cell_type": "markdown",
   "metadata": {},
   "source": [
    "#### 6.Given an array F with shape (1024,) make an array G containing only the elements F[22],F[23],...,F[42]."
   ]
  },
  {
   "cell_type": "code",
   "execution_count": 192,
   "metadata": {},
   "outputs": [
    {
     "name": "stdout",
     "output_type": "stream",
     "text": [
      "[ 0.81456212  0.39554759  0.484383    0.13873475  0.78415574  0.65188356\n",
      "  0.40596577  0.97121611  0.62576593  0.31612143  0.08757549  0.99255293\n",
      "  0.05814735  0.5554487   0.46372684  0.47995663  0.52374162  0.66350454\n",
      "  0.63612158  0.69467363  0.95102811]\n"
     ]
    }
   ],
   "source": [
    "F=np.random.rand(1024) # Creates an array F with shape (1024,)\n",
    "G=F[22:43] # Creates array with elements F[22], F[23], ... F[42]\n",
    "print(G) # Prints array G"
   ]
  },
  {
   "cell_type": "markdown",
   "metadata": {},
   "source": [
    "#### 7.Given an array H with shape (1024,) and an integer array I make an array J whose elements are H[I[0]], H[I[1]], ..., H[I[-1]]"
   ]
  },
  {
   "cell_type": "code",
   "execution_count": 279,
   "metadata": {},
   "outputs": [
    {
     "name": "stdout",
     "output_type": "stream",
     "text": [
      "[ 0.36108955  0.17375816  0.38413165  0.61212246  0.80551296  0.18991923\n",
      "  0.71442242  0.21721641  0.48091425  0.77258173]\n"
     ]
    }
   ],
   "source": [
    "H=np.random.rand(1024) # Creates an array H with shape (1024,)\n",
    "I=np.random.randint(1023, size=10) # Creates an array I whose elements are less than 1023=1024-1 (because of 0 based indexing)\n",
    "J=H[I] # Creates an array J whose elements are H[I[0]], H[I[1]], ..., H[I[-1]]\n",
    "print(J) # Prints array J"
   ]
  },
  {
   "cell_type": "markdown",
   "metadata": {},
   "source": [
    "#### 8.Given an array K with shape (L,) make an array with all elements of K in reverse order."
   ]
  },
  {
   "cell_type": "code",
   "execution_count": 318,
   "metadata": {},
   "outputs": [
    {
     "name": "stdout",
     "output_type": "stream",
     "text": [
      "[ 0.18188466  0.33714675  0.20533481  0.08305018  0.44686847  0.78460559\n",
      "  0.61417077  0.37305794  0.76706254  0.55399902]\n"
     ]
    }
   ],
   "source": [
    "L=10 # Defines the value of L\n",
    "K=np.random.rand(10) # Creates an array K with shape (L,)\n",
    "K_reverse=np.flip(K,0) # Creates an array with all elements in K in reverse order\n",
    "print(K_reverse) # Prints the array"
   ]
  },
  {
   "cell_type": "markdown",
   "metadata": {},
   "source": [
    "#### 9.Given an array M = np.random.rand(128) make an array N containing all elements in M that are less then or equal to 0.5"
   ]
  },
  {
   "cell_type": "code",
   "execution_count": 324,
   "metadata": {},
   "outputs": [
    {
     "name": "stdout",
     "output_type": "stream",
     "text": [
      "[ 0.42303242  0.24346565  0.1420092   0.01673722  0.01637905  0.25037336\n",
      "  0.46947912  0.37489686  0.19365538  0.25273797  0.11816641  0.44329913\n",
      "  0.05119372  0.40348029  0.11101847  0.0205364   0.37056514  0.23263462\n",
      "  0.37350509  0.08450317  0.39673195  0.29424404  0.35120143  0.43354923\n",
      "  0.28844632  0.27245552  0.08021493  0.16703516  0.03602797  0.01456486\n",
      "  0.24663275  0.09578834  0.06088555  0.13978127  0.24331179  0.41517899\n",
      "  0.28154134  0.28230684  0.41600097  0.39896061  0.25603338  0.2492781\n",
      "  0.34839367  0.05983595  0.42462039  0.11544431  0.44015788  0.24997466\n",
      "  0.31944968  0.08516607  0.45804951  0.34884688]\n"
     ]
    }
   ],
   "source": [
    "M = np.random.rand(128) # Creates an array M with shape (128,)\n",
    "N=M[M<=0.5] # Creates an array N containing all elements in M that are less then or equal to 0.5\n",
    "print(N) # Prints N"
   ]
  },
  {
   "cell_type": "markdown",
   "metadata": {},
   "source": [
    "## Tricks with Arrays"
   ]
  },
  {
   "cell_type": "markdown",
   "metadata": {},
   "source": [
    "#### 1.Given an array (vector) A of shape (N,) make it into an array B of shape (N,1)."
   ]
  },
  {
   "cell_type": "code",
   "execution_count": 369,
   "metadata": {},
   "outputs": [
    {
     "name": "stdout",
     "output_type": "stream",
     "text": [
      "(9, 1) \n",
      " [[ 0.50582306]\n",
      " [ 0.02383971]\n",
      " [ 0.26965435]\n",
      " [ 0.48968905]\n",
      " [ 0.42301984]\n",
      " [ 0.10712845]\n",
      " [ 0.00412713]\n",
      " [ 0.78668994]\n",
      " [ 0.27866335]]\n"
     ]
    }
   ],
   "source": [
    "N=9 # Defines a value for N\n",
    "A=np.random.rand(N) # Creates an array A with shape (N,)\n",
    "B=np.reshape(A, (N, 1)) # Cretaes an array B by reshaping A \n",
    "print(B.shape, \"\\n\", B) # Prints B and its shape (N,1)"
   ]
  },
  {
   "cell_type": "markdown",
   "metadata": {},
   "source": [
    "#### 2.Given an array (vector) A of shape (N,) make it into an array B of shape (1,N)."
   ]
  },
  {
   "cell_type": "code",
   "execution_count": 384,
   "metadata": {},
   "outputs": [
    {
     "name": "stdout",
     "output_type": "stream",
     "text": [
      "(1, 9) \n",
      " [[ 0.14366039  0.97644732  0.23797196  0.25962772  0.94279429  0.72647552\n",
      "   0.71664643  0.11116799  0.75067731]]\n"
     ]
    }
   ],
   "source": [
    "N=9 # Defines a value for N\n",
    "A=np.random.rand(N) # Creates an array A with shape (N,)\n",
    "B=np.reshape(A, (1, N)) # Cretaes an array B by reshaping A \n",
    "print(B.shape, \"\\n\", B) # Prints B and its shape (1,N)"
   ]
  },
  {
   "cell_type": "markdown",
   "metadata": {},
   "source": [
    "#### 3.Given an array A of shape (M,N) what is A[i]? What are the valid values for i?"
   ]
  },
  {
   "cell_type": "markdown",
   "metadata": {},
   "source": [
    "A[i] is the same as, A[i, :], meaning that it contains the elements of the row with index i in A. For instance, A[0] i the row with index 0. The values for i are 0,1,..,M-1."
   ]
  },
  {
   "cell_type": "markdown",
   "metadata": {},
   "source": [
    "#### 4.Let A35 be an array of shape (3,5) and let v5 be an array of shape (5,). Subtract v5 from each row in A35."
   ]
  },
  {
   "cell_type": "code",
   "execution_count": 393,
   "metadata": {},
   "outputs": [
    {
     "name": "stdout",
     "output_type": "stream",
     "text": [
      "[[ 0.35609917  0.36720758  0.29906883  0.36681036  0.22934224]\n",
      " [ 0.65424076  0.13507459  0.75775083  0.0205594   0.21886645]\n",
      " [ 0.15971535 -0.17589283  0.48835588 -0.27972766  0.22049963]]\n"
     ]
    }
   ],
   "source": [
    "A35=np.random.rand(3,5) # Creates an array A35 with shape (3.5)\n",
    "v5=np.random.rand(5) # Cretaes an array v5 with shape (5,)\n",
    "Diff=A35-v5 # Performs subtraction of A35 and v5 via Broadcasting\n",
    "print(Diff) # Prints the result of the subtraction"
   ]
  },
  {
   "cell_type": "markdown",
   "metadata": {},
   "source": [
    "#### 5.Let A35 be an array of shape (3,5) and let v3 be an array of shape (3,). Subtract v3 from each column in A35."
   ]
  },
  {
   "cell_type": "code",
   "execution_count": 406,
   "metadata": {},
   "outputs": [
    {
     "name": "stdout",
     "output_type": "stream",
     "text": [
      "[[-0.18046863 -0.46604827 -0.18611295]\n",
      " [-0.77207453 -0.85436703  0.12153524]\n",
      " [-0.74507677 -0.17135359  0.15387632]\n",
      " [-0.0862131  -0.25885569 -0.63638839]\n",
      " [-0.53478727 -0.85034012 -0.60775419]]\n"
     ]
    }
   ],
   "source": [
    "A35=np.random.rand(3,5) # Creates an array A35 with shape (3.5)\n",
    "v5=np.random.rand(3) # Cretaes an array v5 with shape (3,)\n",
    "Diff=A35.T-v5 # Performs subtraction of A35 transpose and v5 via Broadcasting\n",
    "print(Diff)"
   ]
  },
  {
   "cell_type": "markdown",
   "metadata": {},
   "source": [
    "## Linear Algebra"
   ]
  },
  {
   "cell_type": "markdown",
   "metadata": {},
   "source": [
    "#### 1.Calculate the inner product of two vector v and w both of shape (N,)."
   ]
  },
  {
   "cell_type": "code",
   "execution_count": 410,
   "metadata": {},
   "outputs": [
    {
     "name": "stdout",
     "output_type": "stream",
     "text": [
      "2.04795895543\n"
     ]
    }
   ],
   "source": [
    "N=9 # Defines a value for N\n",
    "v=np.random.rand(N) # Creates a vector v with shape (N,)\n",
    "w=np.random.rand(N) # Creates a vector w with shape (N,)\n",
    "vw=v@w # Computes the inner (dot) product of v and w\n",
    "print(vw) # Prints the result"
   ]
  },
  {
   "cell_type": "markdown",
   "metadata": {},
   "source": [
    "#### 2.Calculate the product of a matrix A of shape (M,N) with a vector v of shape (N,)."
   ]
  },
  {
   "cell_type": "code",
   "execution_count": 417,
   "metadata": {},
   "outputs": [
    {
     "name": "stdout",
     "output_type": "stream",
     "text": [
      "[ 1.85634422  1.89516535  1.74687578  1.995466    1.20436891  1.76046446\n",
      "  2.63124515  2.1441333 ]\n"
     ]
    }
   ],
   "source": [
    "M=8 # Defines a value for M\n",
    "N=9 # Defines a value for N\n",
    "A=np.random.rand(M,N) # Creates a matrix A with shape (M,N)\n",
    "v=np.random.rand(N) # Creates a vector v with shape (N,)\n",
    "Av=A@v # Computes the inner (dot) product of A and v\n",
    "print(Av) # Prints the result"
   ]
  },
  {
   "cell_type": "markdown",
   "metadata": {},
   "source": [
    "#### 3.Let v be an array of shape (N,). What is the shape of v.T (or np.transpose(v))"
   ]
  },
  {
   "cell_type": "markdown",
   "metadata": {},
   "source": [
    "The shape is unchanged: (N,). Here is an example for an array with shape (9,)."
   ]
  },
  {
   "cell_type": "code",
   "execution_count": 426,
   "metadata": {},
   "outputs": [
    {
     "name": "stdout",
     "output_type": "stream",
     "text": [
      "(9,)\n"
     ]
    }
   ],
   "source": [
    "N=9 # Defines a value for N\n",
    "v=np.random.rand(N) # Creates a vector v with shape (N,)\n",
    "print(v.T.shape) # Prints the shape of the transpose of v"
   ]
  },
  {
   "cell_type": "markdown",
   "metadata": {},
   "source": [
    "#### 4.Let A be an array of shape (3,5) and let v3 be an array of shape (3,). We define v31 = v3.reshape(3,1). What is v3 @ A, v31 @ A and v31.T @ A?"
   ]
  },
  {
   "cell_type": "code",
   "execution_count": 429,
   "metadata": {},
   "outputs": [
    {
     "name": "stdout",
     "output_type": "stream",
     "text": [
      "v3@A is [ 1.49431418  1.16869589  1.0033789   1.54999043  0.97685315] .\n",
      "v31.T@A is [[ 1.49431418  1.16869589  1.0033789   1.54999043  0.97685315]] .\n"
     ]
    }
   ],
   "source": [
    "A=np.random.rand(3,5)\n",
    "v3=np.random.rand(3,)\n",
    "v31 = v3.reshape(3,1)\n",
    "print ('v3@A is', v3@A, '.')\n",
    "print ('v31.T@A is', v31.T@A, '.')"
   ]
  },
  {
   "cell_type": "markdown",
   "metadata": {},
   "source": [
    "v31@A cannot be computed because v31 has 1 column and A has 3 rows."
   ]
  }
 ],
 "metadata": {
  "kernelspec": {
   "display_name": "Python 3",
   "language": "python",
   "name": "python3"
  },
  "language_info": {
   "codemirror_mode": {
    "name": "ipython",
    "version": 3
   },
   "file_extension": ".py",
   "mimetype": "text/x-python",
   "name": "python",
   "nbconvert_exporter": "python",
   "pygments_lexer": "ipython3",
   "version": "3.6.1"
  }
 },
 "nbformat": 4,
 "nbformat_minor": 2
}
