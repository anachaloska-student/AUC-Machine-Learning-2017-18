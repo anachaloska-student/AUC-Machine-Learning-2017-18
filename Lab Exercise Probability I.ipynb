{
 "cells": [
  {
   "cell_type": "markdown",
   "metadata": {},
   "source": [
    "# Lab Exercise Probability I"
   ]
  },
  {
   "cell_type": "markdown",
   "metadata": {},
   "source": [
    "##### Ana Chaloska"
   ]
  },
  {
   "cell_type": "markdown",
   "metadata": {},
   "source": [
    "## Throwing a fair dice"
   ]
  },
  {
   "cell_type": "markdown",
   "metadata": {},
   "source": [
    "#### 1. What is the probability space $U$ if we throw once with a dice?"
   ]
  },
  {
   "cell_type": "markdown",
   "metadata": {},
   "source": [
    "The sample space (universe) is $\\left\\{\\text{{1},{2},{3},{4},{5},{6}}\\right\\}$. The probablility measures are: $P({1})=P({2})=P({3})=P({4})=P({5})=P({6})={\\frac{1}{6}}$ because there are 6 possible outcomes and each outcome is equally probable."
   ]
  },
  {
   "cell_type": "markdown",
   "metadata": {},
   "source": [
    "#### 2. We throw the same dice twice. What is the probability space for this experiment?"
   ]
  },
  {
   "cell_type": "markdown",
   "metadata": {},
   "source": [
    "The sample space is: $\\left\\{\\text{{1,1},{1,2},{1,3},{1,4},{1,5},{1,6},{2,1},{2,2},{2,3},{2,4,},{2,5},{2,6},{3,1},{3,2},{3,3},{3,4},{3,5},{3,6},{4,1},{4,2},{4,3},{4,4},{4,5},{4,6},{5,1},{5,2},{5,3},{5,4},{5,5},{5,6},{6,1},{6,2},{6,3},{6,4},{6,5},{6,6}}\\right\\}$. The probability measure of each of the possible outcomes in the sample space is: ${\\frac{1}{6}}\\times{\\frac{1}{6}} = {\\frac{1}{36}}$ because the outcome of the 1st dice and the outcome of the 2nd dice are independent events. \n"
   ]
  },
  {
   "cell_type": "markdown",
   "metadata": {},
   "source": [
    "\n",
    "#### 3. What is the probability to throw a six twice?"
   ]
  },
  {
   "cell_type": "markdown",
   "metadata": {},
   "source": [
    "The probability is ${\\frac{1}{6}}\\times{\\frac{1}{6}} = {\\frac{1}{36}}$ because the outcome of the 1st dice and the outcome of the 2nd dice are independent events."
   ]
  },
  {
   "cell_type": "markdown",
   "metadata": {},
   "source": [
    "#### 4. What is the probability to get 9 points in total in two throws?"
   ]
  },
  {
   "cell_type": "markdown",
   "metadata": {},
   "source": [
    "The sample space is: $\\left\\{\\text{{1,1},{1,2},{1,3},{1,4},{1,5},{1,6},{2,1},{2,2},{2,3},{2,4,},{2,5},{2,6},{3,1},{3,2},{3,3},{3,4},{3,5},{3,6},{4,1},{4,2},{4,3},{4,4},{4,5},{4,6},{5,1},{5,2},{5,3},{5,4},{5,5},{5,6},{6,1},{6,2},{6,3},{6,4},{6,5},{6,6}}\\right\\}$. The event space is $\\left\\{\\text{{1,8}, {2,7}, {3,6}, {4,5}, {5,4}, {6,3}, {7,2}, {8,1}}\\right\\}$. So, the probability is $8/36=4/9$."
   ]
  },
  {
   "cell_type": "markdown",
   "metadata": {},
   "source": [
    "## Venn Diagram"
   ]
  },
  {
   "attachments": {
    "image.png": {
     "image/png": "[encoded data removed]"
    }
   },
   "cell_type": "markdown",
   "metadata": {},
   "source": [
    "Consider the Venn diagram for events $A$ and $B$ in universe $U$. \n",
    "It is given that:\n",
    "\n",
    "$P(A)=0.5$\n",
    "\n",
    "$P(B)=0.7$\n",
    "\n",
    "$P(A∪B)=0.8$.\n",
    "![image.png](attachment:image.png)"
   ]
  },
  {
   "cell_type": "markdown",
   "metadata": {},
   "source": [
    "#### 1. The elementary region with label 3 corresponds with the event $A\\cap{B}$. Give the events (in terms of $A$, $B$ and $U$) of the other three elementary regions."
   ]
  },
  {
   "cell_type": "markdown",
   "metadata": {},
   "source": [
    "The elementary region with **label 1** corresponds with the event ${U\\setminus{A\\cap{B}}}$.\n",
    "\n",
    "The elementary region with **label 2** corresponds with the event ${A\\setminus{B}}$.\n",
    "\n",
    "The elementary region with **label 4** corresponds with the event ${B\\setminus{A}}$."
   ]
  },
  {
   "cell_type": "markdown",
   "metadata": {},
   "source": [
    "#### 2. Calculate the probabilities of the four events defined in the previous question."
   ]
  },
  {
   "cell_type": "markdown",
   "metadata": {},
   "source": [
    "**Label 3**: $P(3)=P({A\\cap{B}})=P(A)+P(B)-P({A\\cup{B}})=0.5+0.7-0.8=0.4$ (because $P({A\\cup{B}})=P(A)+P(B)-P({A\\cap{B}})$)\n",
    "\n",
    "**Label 1:** $P(1)=P({U\\setminus{({A\\cup{B}})}})=P({\\neg{({A\\cup{B}})}})=1-P({A\\cup{B}})=1-0.8=0.2$ (because $({A\\cup{B}})$ and $\\neg{({A\\cup{B}})}$ are disjoint subsets of $U$)\n",
    "\n",
    "**Label 2:** $P(2)= P({A\\cup{B}})-P(B)=0.8-0.7=0.1$\n",
    "\n",
    "**Label 4:** $P(1)= P({A\\cup{B}})-P(A)=0.8-0.5=0.3$"
   ]
  },
  {
   "cell_type": "markdown",
   "metadata": {},
   "source": [
    "##  Axioms and Theorems of Probability"
   ]
  },
  {
   "cell_type": "markdown",
   "metadata": {},
   "source": [
    "#### 1. Prove that $P(A\\cup{B})=P(A)+P(B)−P(A\\cap{B})$  using the axioms of probability. Start with a ‘graphical proof’ based on a Venn diagram. Can you also give a formal algebraic proof (i.e. manipulating equations)."
   ]
  },
  {
   "cell_type": "markdown",
   "metadata": {},
   "source": [
    "$A\\cup{(B\\cap{\\neg{A})}}=(A\\cup{B})\\cap(A\\cup{\\neg{A}})=(A\\cup{B})\\cap{U}=A\\cup{B}$\n",
    "\n",
    "Since $A$ and ${(B\\cap{\\neg{A})}}$ are disoint, from **Axiom 3**, we have: $P(A\\cup{B})=P(A)+P(B\\cap{\\neg{A}})$ $.......................................(1)$\n",
    "\n",
    "On the other hand:\n",
    "$B=B\\cap{U}=B\\cap{(A\\cup{\\neg{A}})}$ $\\Rightarrow$ $B=(B\\cap{A})\\cup{(B\\cap{\\neg{A}})}$. \n",
    "\n",
    "Since $B\\cap{A}$ and $(B\\cap{\\neg{A}})$ are disjoint, from **Axiom 3**, we have: $P(B)=P(B\\cap{A})+P(B\\cap{\\neg{A}})$ $\\Rightarrow$ $P(B\\cap{\\neg{A}})=P(B)-P(B\\cap{A})$ $...(2)$\n",
    "\n",
    "By substituting $(2)$ into $(1)$, we get: \n",
    "\n",
    "$P(A\\cup{B})=P(A)+P(B)−P(A\\cap{B})$"
   ]
  },
  {
   "cell_type": "markdown",
   "metadata": {},
   "source": [
    "#### 2. Also prove $P(A)=P(A\\cap{B})+P(A\\cap{\\neg{B}})$. Again give a graphical proof as well as a algebraic proof."
   ]
  },
  {
   "cell_type": "markdown",
   "metadata": {},
   "source": [
    "$A=A\\cap{U}=A\\cap{(B\\cup{\\neg{B}})}=(A\\cap{B})\\cup(A\\cap{\\neg{B}})$\n",
    "\n",
    "Since$(A\\cap{B})$ and $(A\\cap{\\neg{B}})$ are disjoint, from **Axiom 3**, we have: \n",
    "\n",
    "$P(A)=P(A\\cap{B})+P(A\\cap{\\neg{B}})$"
   ]
  },
  {
   "cell_type": "markdown",
   "metadata": {},
   "source": [
    "#### 3. Let $B_i$ for $i=1,…,n$ form a partition of $U$, prove that:\n",
    "\n",
    "$P(A)=\\sum_{i=1}^{n}P(A\\cap{B_i})$"
   ]
  },
  {
   "cell_type": "markdown",
   "metadata": {},
   "source": [
    "Since $U=B_1\\cup{B_2}\\cup...\\cup{B_n}$, we have:\n",
    "\n",
    "$A=A\\cap{U}=A\\cap({B_1\\cup{B_2}\\cup...\\cup{B_n}})=(A\\cap{B_1})\\cup({A\\cap{B_2}})\\cup...\\cup({A\\cap{B_n}})$\n",
    "\n",
    "Since $(A\\cap{B_1})$, $({A\\cap{B_2}})$,...,$({A\\cap{B_n}})$ are dijoint, from **Axiom 3**, we have:\n",
    "\n",
    "$P(A)=P(A\\cap{B_1})+P({A\\cap{B_2}})+...+P({A\\cap{B_n}})=\\sum_{i=1}^{n}{P(A\\cap{B_i})}$"
   ]
  },
  {
   "cell_type": "markdown",
   "metadata": {},
   "source": [
    "## Conditional Probability and Bayes Rule"
   ]
  },
  {
   "cell_type": "markdown",
   "metadata": {},
   "source": [
    "#### 1. We have seen that P(A)+P(¬A)=1. What about P(A∣B)+P(¬A∣B)?"
   ]
  },
  {
   "cell_type": "markdown",
   "metadata": {},
   "source": [
    "$P(A|B)+P(\\neg{A}|{B})=\\frac{P(A\\cap{B})}{P(B)}+\\frac{P(\\neg{A}\\cap{B})}{P(B)}=\\frac{P(A\\cap{B})+P(\\neg{A}\\cap{B})}{P(B)}=\\frac{P((A\\cap{B})\\cup{(\\neg{A}\\cap{B}))}}{P(B)}=\\frac{P(B)}{P(B)}=1$"
   ]
  },
  {
   "cell_type": "markdown",
   "metadata": {},
   "source": [
    "#### 2. We have seen that P(A)+P(¬A)=1P(A)+P(¬A)=1. What about P(A∣B)+P(¬A∣C)P(A∣B)+P(¬A∣C) ?"
   ]
  },
  {
   "cell_type": "markdown",
   "metadata": {},
   "source": [
    "$P(A|B)+P(\\neg{A}|{C})=\\frac{P(A\\cap{B})}{P(B)}+\\frac{P(\\neg{A}\\cap{C})}{P(C)}$ which doesn't lead us to any specific conclusion."
   ]
  },
  {
   "cell_type": "markdown",
   "metadata": {},
   "source": [
    "#### 3. We have seen that P(A)+P(¬A)=1. What about P(A∣B)+P(A∣¬B)?"
   ]
  },
  {
   "cell_type": "markdown",
   "metadata": {},
   "source": [
    "$P(A|B)+P({A}|\\neg{B})=\\frac{P(A\\cap{B})}{P(B))}+\\frac{P({A}\\cap\\neg{B})}{P(\\neg{B})}=\\frac{P(A\\cap{B})P(\\neg{B})+P(A\\cap\\neg{B})P(B)}{P(B)P(\\neg{B})}=\\frac{P(A\\cap{B})(1-P(B))+P(A\\cap\\neg{B})(1-P(\\neg{B})}{P(B)P(\\neg{B})}=\\frac{P(A\\cap{B})-P(A\\cap{B})P(B)+P(A\\cap{\\neg{B}})-P(A\\cap{\\neg{B}})P(\\neg{B})}{P(B)P(\\neg{B})}=\\frac{P(A\\cap{B})+P(A\\cap{\\neg{B}})-(P(A\\cap{B})P(B)+P(A\\cap{\\neg{B}})P(\\neg{B}))}{P(B)P(\\neg{B})}=\\frac{P(A\\cap{B})+P(A\\cap{\\neg{B}})-P(A)}{P(B)P(\\neg{B})}=\\frac{P((A\\cap{B})\\cup{(A\\cap{\\neg{B})}})-P(A)}{P(B)P(\\neg{B})}=\\frac{P(A)-P(A)}{P(B)P(\\neg{B})}=\\frac{0}{P(B)P(\\neg{B})}=0$"
   ]
  },
  {
   "cell_type": "markdown",
   "metadata": {},
   "source": [
    "#### 4. Prove Bayes rule:\n",
    "\n",
    "$P(A∣B)=\\frac{P(A)}{P(B)}P(B∣A)$"
   ]
  },
  {
   "cell_type": "markdown",
   "metadata": {},
   "source": [
    "Assume that the statement is valid. Then the following has to be valid:\n",
    "\n",
    "$\\frac{P(A)}{P(B)}P(B∣A)=P(A∣B)=\\frac{P(A\\cap{B})}{P(B)}$\n",
    "\n",
    "$\\Rightarrow \\frac{P(A)}{P(B)}P(B∣A)=\\frac{P(A\\cap{B})}{P(B)}$\n",
    "\n",
    "$\\Rightarrow {P(A)}P(B∣A)={P(A\\cap{B})}$\n",
    "\n",
    "$\\Rightarrow P(B∣A)=\\frac{P(A\\cap{B})}{P(A)}$ which indeed is correct.\n",
    "\n",
    "So, the statement is **valid**."
   ]
  },
  {
   "cell_type": "markdown",
   "metadata": {},
   "source": [
    "## Chain Rule"
   ]
  },
  {
   "cell_type": "markdown",
   "metadata": {},
   "source": [
    "#### 1. Prove the chain rule:\n",
    "\n",
    "$P(A_1A_2⋯A_n)=P(A_1∣A_2⋯A_n)P(A_2∣A_3⋯A_n)⋯P(A_{n−1}∣A_n)P(A_n)$\n",
    "starting from the definition of the conditional probability. \n",
    "\n",
    "Note that we use $AB$ to denote the event $A\\cap{B}$."
   ]
  },
  {
   "cell_type": "markdown",
   "metadata": {},
   "source": [
    "The probability of A given B is $P(A|B)=\\frac{P(A\\cup{B})}{P(B)}=\\frac{P(AB)}{P(B)}$ (conditional probability). So $P(AB)=P(A|B)P(B)$.\n",
    "\n",
    "For $A_1,...,A_n$ we have:$P(A_1A_2...A_n)=P(A_1\\cap{A_2}\\cap...\\cap{A_n})=P(A_1\\cap({A_2}\\cap...\\cap{A_n}))=P(A_1|A_2...A_n)P(A_2...A_n)=P(A_1|A_2...A_n)P(A_2\\cap({A_3}\\cap...\\cap{A_n}))=P(A_1|A_2...A_n)P(A_2|A_3...A_n)(A_3...A_n)=...=P(A_1|A_2...A_n)P(A_2|A_3...A_n)...P(A_{n−1}∣A_n)P(A_n)$"
   ]
  },
  {
   "cell_type": "markdown",
   "metadata": {},
   "source": [
    "#### 2. The above chain rule is not unique. Give a second form for the chain rule. How many different forms can you come up with?"
   ]
  },
  {
   "cell_type": "markdown",
   "metadata": {},
   "source": [
    "There are $n!$ forms of the Chain Rule because there are $n!$ combinations of ordering the multipliers of the product. One of them is:\n",
    "\n",
    "$P(A_1A_2...A_n)=P(A_n)P(A_{n−1}∣A_n)...P(A_2|A_3...A_n)P(A_1|A_2...A_n)$"
   ]
  },
  {
   "cell_type": "markdown",
   "metadata": {},
   "source": [
    "## Marbles and Vases"
   ]
  },
  {
   "attachments": {
    "image.png": {
     "image/png": "[encoded data removed]"
    }
   },
   "cell_type": "markdown",
   "metadata": {},
   "source": [
    "Consider the following experiment: we have three vases labeled 1, 2 and 3. In every vase there are a number of red and white marbles given in the following table:\n",
    "![image.png](attachment:image.png)\n",
    "First we select one of the vases. There is no preference for one of the vases. Then from the choses vase we pick one marble.\n",
    "\n",
    "The random experiment is described with two random variables: $V$ (vase) with posible outcomes 1,2 and 3, and $C$ for the color of the marble."
   ]
  },
  {
   "cell_type": "markdown",
   "metadata": {},
   "source": [
    "#### 1. Draw the probability tree for this random experiment and calculate $P(C='white')$ ."
   ]
  },
  {
   "attachments": {
    "image.png": {
     "image/png": "[encoded data removed]"
    }
   },
   "cell_type": "markdown",
   "metadata": {},
   "source": [
    "![image.png](attachment:image.png)\n",
    "$P(C='white')=\\frac{1}{3}\\times{\\frac{1}{2}}=\\frac{1}{6}$"
   ]
  },
  {
   "cell_type": "markdown",
   "metadata": {},
   "source": [
    "#### 2. Without a doubt you have multiplied probabilities in the calculations in the tree. Which rule from probability theory have you (implicitly) applied many times when making the tree?"
   ]
  },
  {
   "cell_type": "markdown",
   "metadata": {},
   "source": [
    "The Chain Rule."
   ]
  },
  {
   "cell_type": "markdown",
   "metadata": {},
   "source": [
    "#### 3. The tree you have just made start by selecting a vase, and then picking a marble. This is of course according to the causality of the random experiment.\n",
    "\n",
    "#### Probability theory is however not about causality. We can equally well make a tree where we first split according to the color of the marble and then according to the vase and still come up with the same probabilities for all possible combinations of vase and color.\n",
    "\n",
    "#### Draw this tree as well and calculate all probabilities."
   ]
  },
  {
   "attachments": {
    "image.png": {
     "image/png": "[encoded data removed]"
    }
   },
   "cell_type": "markdown",
   "metadata": {},
   "source": [
    "![image.png](attachment:image.png)\n",
    "$P(Red, Vase 1)=\\frac{1}{2}\\times{\\frac{1}{3}}=\\frac{1}{6}$\n",
    "\n",
    "$P(Red, Vase 2)=\\frac{1}{2}\\times{\\frac{1}{3}}=\\frac{1}{6}$\n",
    "\n",
    "$P(Red, Vase 3)=\\frac{1}{2}\\times{\\frac{1}{3}}=\\frac{1}{6}$\n",
    "\n",
    "$P(White, Vase 1)=\\frac{1}{2}\\times{\\frac{1}{3}}=\\frac{1}{6}$\n",
    "\n",
    "$P(White, Vase 1)=\\frac{1}{2}\\times{\\frac{1}{3}}=\\frac{1}{6}$\n",
    "\n",
    "$P(White, Vase 1)=\\frac{1}{2}\\times{\\frac{1}{3}}=\\frac{1}{6}$"
   ]
  },
  {
   "cell_type": "markdown",
   "metadata": {},
   "source": [
    "## Naive Bayesian Classifier \n"
   ]
  },
  {
   "cell_type": "code",
   "execution_count": 422,
   "metadata": {},
   "outputs": [],
   "source": [
    "import numpy as np\n",
    "a=np.genfromtxt(\"biometrie2014.csv\", skip_header=5, delimiter=',', converters={0:lambda x: 1.0*int(x[0]==70)})\n",
    "# print(a) "
   ]
  },
  {
   "cell_type": "code",
   "execution_count": 423,
   "metadata": {},
   "outputs": [
    {
     "name": "stdout",
     "output_type": "stream",
     "text": [
      "[ 63.  50.  82.  46.  75.  50.]\n",
      "wf_mean: 61.0 \n",
      " wf_std: 13.5892114071\n"
     ]
    }
   ],
   "source": [
    "wf=a[a[:,0]==1,1] # Selects the columns where the 1st element is 0 (female) - only the WEIGHT column \n",
    "# a[a[:,0]==1][:,1]\n",
    "print(wf)\n",
    "wf_mean=np.mean(wf)\n",
    "wf_std=np.std(wf)\n",
    "print('wf_mean:', wf_mean, '\\n', 'wf_std:', wf_std) # Calulates the mean and standard deviation of FEMALE WEIGHTS\n"
   ]
  },
  {
   "cell_type": "code",
   "execution_count": 424,
   "metadata": {},
   "outputs": [
    {
     "name": "stdout",
     "output_type": "stream",
     "text": [
      "[ 173.  170.  180.  164.  162.  165.]\n",
      "lf_mean: 169.0 \n",
      " lf_std: 6.16441400297\n"
     ]
    }
   ],
   "source": [
    "lf=a[a[:,0]==1,2] # Selects the columns where the 1st element is 0 (female)  - only the LENGTH column \n",
    "# a[a[:,0]==1][:,2]\n",
    "print(lf)\n",
    "lf_mean=np.mean(lf)\n",
    "lf_std=np.std(lf)\n",
    "print('lf_mean:', lf_mean, '\\n', 'lf_std:', lf_std) # Calulates the mean and standard deviation of FEMALE LENGTHS"
   ]
  },
  {
   "cell_type": "code",
   "execution_count": 425,
   "metadata": {},
   "outputs": [
    {
     "name": "stdout",
     "output_type": "stream",
     "text": [
      "[ 41.  38.  42.  36.  38.  37.]\n",
      "sf_mean: 38.6666666667 \n",
      " sf_std: 2.13437474581\n"
     ]
    }
   ],
   "source": [
    "sf=a[a[:,0]==1,3] # Selects the columns where the 1st element is 0 (female) - only the SHOE SIZE column \n",
    "# a[a[:,0]==1][:,3]\n",
    "print(sf)\n",
    "sf_mean=np.mean(sf)\n",
    "sf_std=np.std(sf)\n",
    "print('sf_mean:', sf_mean, '\\n', 'sf_std:', sf_std) # Calulates the mean and standard deviation of FEMALE SHOE SIZES\n"
   ]
  },
  {
   "cell_type": "code",
   "execution_count": 426,
   "metadata": {},
   "outputs": [
    {
     "name": "stdout",
     "output_type": "stream",
     "text": [
      "[ 183.  185.  180.  195.  170.  185.  190.  179.  178.  186.  189.  175.\n",
      "  190.  180.  189.  180.  189.  190.  190.  188.  178.  180.  192.  174.\n",
      "  187.  188.  180.]\n",
      "wm_mean: 76.5925925926 \n",
      " wm_std: 13.7847453509\n"
     ]
    }
   ],
   "source": [
    "wm=a[a[:,0]==0,1] # Selects the columns where the 1st element is 0 (male)  - only the WEIGHT column \n",
    "# a[a[:,0]==0][:,1]\n",
    "print(lm)\n",
    "wm_mean=np.mean(wm)\n",
    "wm_std=np.std(wm)\n",
    "print('wm_mean:', wm_mean, '\\n', 'wm_std:', wm_std) # Calulates the mean and standard deviation of MALE WEIGHTS\n"
   ]
  },
  {
   "cell_type": "code",
   "execution_count": 427,
   "metadata": {},
   "outputs": [
    {
     "name": "stdout",
     "output_type": "stream",
     "text": [
      "[  60.  130.   84.   65.   55.   74.   77.   76.   66.   79.   76.   75.\n",
      "   90.   70.   98.   79.   67.   81.   85.   75.   70.   60.   73.   76.\n",
      "   78.   76.   73.]\n",
      "lm_mean: 184.074074074 \n",
      " lm_std: 6.10358683815\n"
     ]
    }
   ],
   "source": [
    "lm=a[a[:,0]==0,2] # Selects the columns where the 1st element is 0 (male)  - only the LENGTH column \n",
    "# a[a[:,0]==0][:,1]\n",
    "print(wm)\n",
    "lm_mean=np.mean(lm)\n",
    "lm_std=np.std(lm)\n",
    "print('lm_mean:', lm_mean, '\\n', 'lm_std:', lm_std) # Calulates the mean and standard deviation of MALE LENGTHS\n"
   ]
  },
  {
   "cell_type": "code",
   "execution_count": 428,
   "metadata": {},
   "outputs": [
    {
     "name": "stdout",
     "output_type": "stream",
     "text": [
      "[ 42.   45.   42.   45.   42.   43.   44.   43.   42.   45.   44.   42.\n",
      "  46.   41.   44.   43.   44.   45.3  44.5  44.   43.   43.   44.   42.\n",
      "  44.   44.5  43. ]\n",
      "sm_mean: 43.4925925926 \n",
      " sm_std: 1.23586105114\n"
     ]
    }
   ],
   "source": [
    "sm=a[a[:,0]==0,3] # Selects the columns where the 1st element is 0 (male)  - only the LENGTH column \n",
    "# a[a[:,0]==0][:,1]\n",
    "print(sm)\n",
    "sm_mean=np.mean(sm)\n",
    "sm_std=np.std(sm)\n",
    "print('sm_mean:', sm_mean, '\\n', 'sm_std:', sm_std) # Calulates the mean and standard deviation of MALE LENGTHS\n"
   ]
  },
  {
   "cell_type": "code",
   "execution_count": 429,
   "metadata": {
    "collapsed": true
   },
   "outputs": [],
   "source": [
    "# Defines a PDF function for normal distribution\n",
    "def normal_pdf(x, mean, std):\n",
    "    pdf= (1/(std*np.sqrt(2*np.pi)))*np.e**(-((x-mean)**2/(2*std**2)))\n",
    "    return pdf"
   ]
  },
  {
   "cell_type": "code",
   "execution_count": 430,
   "metadata": {
    "collapsed": true
   },
   "outputs": [],
   "source": [
    "# Defines a function for classification\n",
    "def classify(x):\n",
    "    F=normal_pdf(x[1], wf_mean, wf_std)*normal_pdf(x[2], lf_mean, lf_std)*normal_pdf(x[3],sf_mean, sf_std)\n",
    "    M=normal_pdf(x[1], wm_mean, wf_std)*normal_pdf(x[2], lm_mean, lm_std)*normal_pdf(x[3],sm_mean, sm_std)\n",
    "    if F>M:\n",
    "        return \"Female\"\n",
    "    else:\n",
    "        return \"Male\""
   ]
  },
  {
   "cell_type": "code",
   "execution_count": 444,
   "metadata": {},
   "outputs": [
    {
     "name": "stdout",
     "output_type": "stream",
     "text": [
      "['Male', 'Male', 'Male', 'Male', 'Female', 'Female', 'Male', 'Female', 'Male', 'Male', 'Male', 'Male', 'Male', 'Male', 'Male', 'Male', 'Male', 'Female', 'Male', 'Male', 'Male', 'Male', 'Male', 'Male', 'Male', 'Male', 'Male', 'Male', 'Male', 'Female', 'Female', 'Male', 'Male']\n"
     ]
    }
   ],
   "source": [
    "# Predicted classification of the data in 'biometrie2014.csv'\n",
    "pred_cl=[]\n",
    "for i in range(len(a)):\n",
    "    X= classify(a[i])\n",
    "    pred_cl.append(X)\n",
    "print(pred_cl)"
   ]
  },
  {
   "cell_type": "code",
   "execution_count": 432,
   "metadata": {},
   "outputs": [],
   "source": [
    "# Classifies the data based on the 1st entry\n",
    "def manual_classifier(x):\n",
    "    if x[:][0]==1:\n",
    "        return \"Female\"\n",
    "    elif x[:][0]==0:\n",
    "        return \"Male\""
   ]
  },
  {
   "cell_type": "code",
   "execution_count": 438,
   "metadata": {},
   "outputs": [
    {
     "name": "stdout",
     "output_type": "stream",
     "text": [
      "['Male', 'Male', 'Male', 'Male', 'Male', 'Female', 'Male', 'Female', 'Female', 'Male', 'Male', 'Male', 'Male', 'Male', 'Male', 'Male', 'Male', 'Female', 'Male', 'Male', 'Male', 'Male', 'Male', 'Male', 'Male', 'Male', 'Male', 'Male', 'Male', 'Female', 'Female', 'Male', 'Male']\n"
     ]
    }
   ],
   "source": [
    "# Real classification of the data in 'biometrie2014.csv'\n",
    "true_cl=[]\n",
    "for i in range(len(a)):\n",
    "    X= manual_classifier(a[i])\n",
    "    true_cl.append(X)\n",
    "print(true_cl)"
   ]
  },
  {
   "cell_type": "code",
   "execution_count": 443,
   "metadata": {},
   "outputs": [
    {
     "data": {
      "text/plain": [
       "array([[ 5,  1],\n",
       "       [ 1, 26]])"
      ]
     },
     "execution_count": 443,
     "metadata": {},
     "output_type": "execute_result"
    }
   ],
   "source": [
    "# Creates a confusion matrix\n",
    "from sklearn.metrics import confusion_matrix\n",
    "confusion_matrix(true_cl, pred_cl)"
   ]
  },
  {
   "cell_type": "code",
   "execution_count": 435,
   "metadata": {},
   "outputs": [
    {
     "name": "stdout",
     "output_type": "stream",
     "text": [
      "True\n",
      "True\n",
      "True\n",
      "True\n",
      "False\n",
      "True\n",
      "True\n",
      "True\n",
      "False\n",
      "True\n",
      "True\n",
      "True\n",
      "True\n",
      "True\n",
      "True\n",
      "True\n",
      "True\n",
      "True\n",
      "True\n",
      "True\n",
      "True\n",
      "True\n",
      "True\n",
      "True\n",
      "True\n",
      "True\n",
      "True\n",
      "True\n",
      "True\n",
      "True\n",
      "True\n",
      "True\n",
      "True\n"
     ]
    }
   ],
   "source": [
    "# Represents the accuracy of the classification; 2 FALSE classifications\n",
    "for i in range(len(a)):\n",
    "    print(classify(a[i]) == manual_classifier(a[i]))"
   ]
  }
 ],
 "metadata": {
  "kernelspec": {
   "display_name": "Python 3",
   "language": "python",
   "name": "python3"
  },
  "language_info": {
   "codemirror_mode": {
    "name": "ipython",
    "version": 3
   },
   "file_extension": ".py",
   "mimetype": "text/x-python",
   "name": "python",
   "nbconvert_exporter": "python",
   "pygments_lexer": "ipython3",
   "version": "3.6.1"
  }
 },
 "nbformat": 4,
 "nbformat_minor": 2
}
